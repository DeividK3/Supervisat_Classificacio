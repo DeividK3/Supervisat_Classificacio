{
 "cells": [
  {
   "cell_type": "markdown",
   "metadata": {},
   "source": [
    "# Tasca: Aprenentatge Supervisat - Classificació"
   ]
  },
  {
   "cell_type": "markdown",
   "metadata": {},
   "source": [
    "## Càrrega de llibreries"
   ]
  },
  {
   "cell_type": "code",
   "execution_count": 1,
   "metadata": {},
   "outputs": [],
   "source": [
    "import pandas as pd\n",
    "import numpy as np\n",
    "\n",
    "from sklearn.model_selection import train_test_split\n",
    "from sklearn.preprocessing import MinMaxScaler\n",
    "\n",
    "from sklearn.linear_model import LogisticRegression\n",
    "from sklearn.model_selection import cross_val_score\n",
    "\n",
    "from sklearn.neural_network import MLPClassifier\n",
    "\n",
    "import xgboost as xgb\n",
    "\n",
    "from sklearn import metrics\n",
    "from sklearn.metrics import classification_report, confusion_matrix\n",
    "\n",
    "from sklearn.model_selection import GridSearchCV\n",
    "\n",
    "pd.set_option('display.max_columns', None)"
   ]
  },
  {
   "cell_type": "markdown",
   "metadata": {},
   "source": [
    "## Lectura de la base de dades"
   ]
  },
  {
   "cell_type": "code",
   "execution_count": 2,
   "metadata": {},
   "outputs": [
    {
     "data": {
      "text/html": [
       "<div>\n",
       "<style scoped>\n",
       "    .dataframe tbody tr th:only-of-type {\n",
       "        vertical-align: middle;\n",
       "    }\n",
       "\n",
       "    .dataframe tbody tr th {\n",
       "        vertical-align: top;\n",
       "    }\n",
       "\n",
       "    .dataframe thead th {\n",
       "        text-align: right;\n",
       "    }\n",
       "</style>\n",
       "<table border=\"1\" class=\"dataframe\">\n",
       "  <thead>\n",
       "    <tr style=\"text-align: right;\">\n",
       "      <th></th>\n",
       "      <th>Unnamed: 0</th>\n",
       "      <th>Year</th>\n",
       "      <th>Month</th>\n",
       "      <th>DayofMonth</th>\n",
       "      <th>DayOfWeek</th>\n",
       "      <th>DepTime</th>\n",
       "      <th>CRSDepTime</th>\n",
       "      <th>ArrTime</th>\n",
       "      <th>CRSArrTime</th>\n",
       "      <th>UniqueCarrier</th>\n",
       "      <th>FlightNum</th>\n",
       "      <th>TailNum</th>\n",
       "      <th>ActualElapsedTime</th>\n",
       "      <th>CRSElapsedTime</th>\n",
       "      <th>AirTime</th>\n",
       "      <th>ArrDelay</th>\n",
       "      <th>DepDelay</th>\n",
       "      <th>Origin</th>\n",
       "      <th>Dest</th>\n",
       "      <th>Distance</th>\n",
       "      <th>TaxiIn</th>\n",
       "      <th>TaxiOut</th>\n",
       "      <th>Cancelled</th>\n",
       "      <th>CancellationCode</th>\n",
       "      <th>Diverted</th>\n",
       "      <th>CarrierDelay</th>\n",
       "      <th>WeatherDelay</th>\n",
       "      <th>NASDelay</th>\n",
       "      <th>SecurityDelay</th>\n",
       "      <th>LateAircraftDelay</th>\n",
       "    </tr>\n",
       "  </thead>\n",
       "  <tbody>\n",
       "    <tr>\n",
       "      <th>0</th>\n",
       "      <td>0</td>\n",
       "      <td>2008</td>\n",
       "      <td>1</td>\n",
       "      <td>3</td>\n",
       "      <td>4</td>\n",
       "      <td>2003.0</td>\n",
       "      <td>1955</td>\n",
       "      <td>2211.0</td>\n",
       "      <td>2225</td>\n",
       "      <td>WN</td>\n",
       "      <td>335</td>\n",
       "      <td>N712SW</td>\n",
       "      <td>128.0</td>\n",
       "      <td>150.0</td>\n",
       "      <td>116.0</td>\n",
       "      <td>-14.0</td>\n",
       "      <td>8.0</td>\n",
       "      <td>IAD</td>\n",
       "      <td>TPA</td>\n",
       "      <td>810</td>\n",
       "      <td>4.0</td>\n",
       "      <td>8.0</td>\n",
       "      <td>0</td>\n",
       "      <td>N</td>\n",
       "      <td>0</td>\n",
       "      <td>NaN</td>\n",
       "      <td>NaN</td>\n",
       "      <td>NaN</td>\n",
       "      <td>NaN</td>\n",
       "      <td>NaN</td>\n",
       "    </tr>\n",
       "    <tr>\n",
       "      <th>1</th>\n",
       "      <td>1</td>\n",
       "      <td>2008</td>\n",
       "      <td>1</td>\n",
       "      <td>3</td>\n",
       "      <td>4</td>\n",
       "      <td>754.0</td>\n",
       "      <td>735</td>\n",
       "      <td>1002.0</td>\n",
       "      <td>1000</td>\n",
       "      <td>WN</td>\n",
       "      <td>3231</td>\n",
       "      <td>N772SW</td>\n",
       "      <td>128.0</td>\n",
       "      <td>145.0</td>\n",
       "      <td>113.0</td>\n",
       "      <td>2.0</td>\n",
       "      <td>19.0</td>\n",
       "      <td>IAD</td>\n",
       "      <td>TPA</td>\n",
       "      <td>810</td>\n",
       "      <td>5.0</td>\n",
       "      <td>10.0</td>\n",
       "      <td>0</td>\n",
       "      <td>N</td>\n",
       "      <td>0</td>\n",
       "      <td>NaN</td>\n",
       "      <td>NaN</td>\n",
       "      <td>NaN</td>\n",
       "      <td>NaN</td>\n",
       "      <td>NaN</td>\n",
       "    </tr>\n",
       "    <tr>\n",
       "      <th>2</th>\n",
       "      <td>2</td>\n",
       "      <td>2008</td>\n",
       "      <td>1</td>\n",
       "      <td>3</td>\n",
       "      <td>4</td>\n",
       "      <td>628.0</td>\n",
       "      <td>620</td>\n",
       "      <td>804.0</td>\n",
       "      <td>750</td>\n",
       "      <td>WN</td>\n",
       "      <td>448</td>\n",
       "      <td>N428WN</td>\n",
       "      <td>96.0</td>\n",
       "      <td>90.0</td>\n",
       "      <td>76.0</td>\n",
       "      <td>14.0</td>\n",
       "      <td>8.0</td>\n",
       "      <td>IND</td>\n",
       "      <td>BWI</td>\n",
       "      <td>515</td>\n",
       "      <td>3.0</td>\n",
       "      <td>17.0</td>\n",
       "      <td>0</td>\n",
       "      <td>N</td>\n",
       "      <td>0</td>\n",
       "      <td>NaN</td>\n",
       "      <td>NaN</td>\n",
       "      <td>NaN</td>\n",
       "      <td>NaN</td>\n",
       "      <td>NaN</td>\n",
       "    </tr>\n",
       "  </tbody>\n",
       "</table>\n",
       "</div>"
      ],
      "text/plain": [
       "   Unnamed: 0  Year  Month  DayofMonth  DayOfWeek  DepTime  CRSDepTime  \\\n",
       "0           0  2008      1           3          4   2003.0        1955   \n",
       "1           1  2008      1           3          4    754.0         735   \n",
       "2           2  2008      1           3          4    628.0         620   \n",
       "\n",
       "   ArrTime  CRSArrTime UniqueCarrier  FlightNum TailNum  ActualElapsedTime  \\\n",
       "0   2211.0        2225            WN        335  N712SW              128.0   \n",
       "1   1002.0        1000            WN       3231  N772SW              128.0   \n",
       "2    804.0         750            WN        448  N428WN               96.0   \n",
       "\n",
       "   CRSElapsedTime  AirTime  ArrDelay  DepDelay Origin Dest  Distance  TaxiIn  \\\n",
       "0           150.0    116.0     -14.0       8.0    IAD  TPA       810     4.0   \n",
       "1           145.0    113.0       2.0      19.0    IAD  TPA       810     5.0   \n",
       "2            90.0     76.0      14.0       8.0    IND  BWI       515     3.0   \n",
       "\n",
       "   TaxiOut  Cancelled CancellationCode  Diverted  CarrierDelay  WeatherDelay  \\\n",
       "0      8.0          0                N         0           NaN           NaN   \n",
       "1     10.0          0                N         0           NaN           NaN   \n",
       "2     17.0          0                N         0           NaN           NaN   \n",
       "\n",
       "   NASDelay  SecurityDelay  LateAircraftDelay  \n",
       "0       NaN            NaN                NaN  \n",
       "1       NaN            NaN                NaN  \n",
       "2       NaN            NaN                NaN  "
      ]
     },
     "execution_count": 2,
     "metadata": {},
     "output_type": "execute_result"
    }
   ],
   "source": [
    "# Lectura de dades\n",
    "dfl = pd.read_csv('DelayedFlights.csv')\n",
    "dfl[:3]"
   ]
  },
  {
   "cell_type": "markdown",
   "metadata": {},
   "source": [
    "## Tractament de la base de dades"
   ]
  },
  {
   "cell_type": "code",
   "execution_count": 3,
   "metadata": {},
   "outputs": [],
   "source": [
    "# Es crea una copia del dataset\n",
    "df = dfl.copy()"
   ]
  },
  {
   "cell_type": "code",
   "execution_count": 4,
   "metadata": {},
   "outputs": [
    {
     "data": {
      "text/html": [
       "<div>\n",
       "<style scoped>\n",
       "    .dataframe tbody tr th:only-of-type {\n",
       "        vertical-align: middle;\n",
       "    }\n",
       "\n",
       "    .dataframe tbody tr th {\n",
       "        vertical-align: top;\n",
       "    }\n",
       "\n",
       "    .dataframe thead th {\n",
       "        text-align: right;\n",
       "    }\n",
       "</style>\n",
       "<table border=\"1\" class=\"dataframe\">\n",
       "  <thead>\n",
       "    <tr style=\"text-align: right;\">\n",
       "      <th></th>\n",
       "      <th>Year</th>\n",
       "      <th>Month</th>\n",
       "      <th>DayofMonth</th>\n",
       "      <th>DayOfWeek</th>\n",
       "      <th>DepTime</th>\n",
       "      <th>CRSDepTime</th>\n",
       "      <th>ArrTime</th>\n",
       "      <th>CRSArrTime</th>\n",
       "      <th>UniqueCarrier</th>\n",
       "      <th>FlightNum</th>\n",
       "      <th>TailNum</th>\n",
       "      <th>ActualElapsedTime</th>\n",
       "      <th>CRSElapsedTime</th>\n",
       "      <th>AirTime</th>\n",
       "      <th>ArrDelay</th>\n",
       "      <th>DepDelay</th>\n",
       "      <th>Origin</th>\n",
       "      <th>Dest</th>\n",
       "      <th>Distance</th>\n",
       "      <th>TaxiIn</th>\n",
       "      <th>TaxiOut</th>\n",
       "      <th>Cancelled</th>\n",
       "      <th>CancellationCode</th>\n",
       "      <th>Diverted</th>\n",
       "      <th>CarrierDelay</th>\n",
       "      <th>WeatherDelay</th>\n",
       "      <th>NASDelay</th>\n",
       "      <th>SecurityDelay</th>\n",
       "      <th>LateAircraftDelay</th>\n",
       "    </tr>\n",
       "  </thead>\n",
       "  <tbody>\n",
       "    <tr>\n",
       "      <th>0</th>\n",
       "      <td>2008</td>\n",
       "      <td>1</td>\n",
       "      <td>3</td>\n",
       "      <td>4</td>\n",
       "      <td>2003.0</td>\n",
       "      <td>1955</td>\n",
       "      <td>2211.0</td>\n",
       "      <td>2225</td>\n",
       "      <td>WN</td>\n",
       "      <td>335</td>\n",
       "      <td>N712SW</td>\n",
       "      <td>128.0</td>\n",
       "      <td>150.0</td>\n",
       "      <td>116.0</td>\n",
       "      <td>-14.0</td>\n",
       "      <td>8.0</td>\n",
       "      <td>IAD</td>\n",
       "      <td>TPA</td>\n",
       "      <td>810</td>\n",
       "      <td>4.0</td>\n",
       "      <td>8.0</td>\n",
       "      <td>0</td>\n",
       "      <td>N</td>\n",
       "      <td>0</td>\n",
       "      <td>NaN</td>\n",
       "      <td>NaN</td>\n",
       "      <td>NaN</td>\n",
       "      <td>NaN</td>\n",
       "      <td>NaN</td>\n",
       "    </tr>\n",
       "    <tr>\n",
       "      <th>1</th>\n",
       "      <td>2008</td>\n",
       "      <td>1</td>\n",
       "      <td>3</td>\n",
       "      <td>4</td>\n",
       "      <td>754.0</td>\n",
       "      <td>735</td>\n",
       "      <td>1002.0</td>\n",
       "      <td>1000</td>\n",
       "      <td>WN</td>\n",
       "      <td>3231</td>\n",
       "      <td>N772SW</td>\n",
       "      <td>128.0</td>\n",
       "      <td>145.0</td>\n",
       "      <td>113.0</td>\n",
       "      <td>2.0</td>\n",
       "      <td>19.0</td>\n",
       "      <td>IAD</td>\n",
       "      <td>TPA</td>\n",
       "      <td>810</td>\n",
       "      <td>5.0</td>\n",
       "      <td>10.0</td>\n",
       "      <td>0</td>\n",
       "      <td>N</td>\n",
       "      <td>0</td>\n",
       "      <td>NaN</td>\n",
       "      <td>NaN</td>\n",
       "      <td>NaN</td>\n",
       "      <td>NaN</td>\n",
       "      <td>NaN</td>\n",
       "    </tr>\n",
       "    <tr>\n",
       "      <th>2</th>\n",
       "      <td>2008</td>\n",
       "      <td>1</td>\n",
       "      <td>3</td>\n",
       "      <td>4</td>\n",
       "      <td>628.0</td>\n",
       "      <td>620</td>\n",
       "      <td>804.0</td>\n",
       "      <td>750</td>\n",
       "      <td>WN</td>\n",
       "      <td>448</td>\n",
       "      <td>N428WN</td>\n",
       "      <td>96.0</td>\n",
       "      <td>90.0</td>\n",
       "      <td>76.0</td>\n",
       "      <td>14.0</td>\n",
       "      <td>8.0</td>\n",
       "      <td>IND</td>\n",
       "      <td>BWI</td>\n",
       "      <td>515</td>\n",
       "      <td>3.0</td>\n",
       "      <td>17.0</td>\n",
       "      <td>0</td>\n",
       "      <td>N</td>\n",
       "      <td>0</td>\n",
       "      <td>NaN</td>\n",
       "      <td>NaN</td>\n",
       "      <td>NaN</td>\n",
       "      <td>NaN</td>\n",
       "      <td>NaN</td>\n",
       "    </tr>\n",
       "    <tr>\n",
       "      <th>3</th>\n",
       "      <td>2008</td>\n",
       "      <td>1</td>\n",
       "      <td>3</td>\n",
       "      <td>4</td>\n",
       "      <td>1829.0</td>\n",
       "      <td>1755</td>\n",
       "      <td>1959.0</td>\n",
       "      <td>1925</td>\n",
       "      <td>WN</td>\n",
       "      <td>3920</td>\n",
       "      <td>N464WN</td>\n",
       "      <td>90.0</td>\n",
       "      <td>90.0</td>\n",
       "      <td>77.0</td>\n",
       "      <td>34.0</td>\n",
       "      <td>34.0</td>\n",
       "      <td>IND</td>\n",
       "      <td>BWI</td>\n",
       "      <td>515</td>\n",
       "      <td>3.0</td>\n",
       "      <td>10.0</td>\n",
       "      <td>0</td>\n",
       "      <td>N</td>\n",
       "      <td>0</td>\n",
       "      <td>2.0</td>\n",
       "      <td>0.0</td>\n",
       "      <td>0.0</td>\n",
       "      <td>0.0</td>\n",
       "      <td>32.0</td>\n",
       "    </tr>\n",
       "    <tr>\n",
       "      <th>4</th>\n",
       "      <td>2008</td>\n",
       "      <td>1</td>\n",
       "      <td>3</td>\n",
       "      <td>4</td>\n",
       "      <td>1940.0</td>\n",
       "      <td>1915</td>\n",
       "      <td>2121.0</td>\n",
       "      <td>2110</td>\n",
       "      <td>WN</td>\n",
       "      <td>378</td>\n",
       "      <td>N726SW</td>\n",
       "      <td>101.0</td>\n",
       "      <td>115.0</td>\n",
       "      <td>87.0</td>\n",
       "      <td>11.0</td>\n",
       "      <td>25.0</td>\n",
       "      <td>IND</td>\n",
       "      <td>JAX</td>\n",
       "      <td>688</td>\n",
       "      <td>4.0</td>\n",
       "      <td>10.0</td>\n",
       "      <td>0</td>\n",
       "      <td>N</td>\n",
       "      <td>0</td>\n",
       "      <td>NaN</td>\n",
       "      <td>NaN</td>\n",
       "      <td>NaN</td>\n",
       "      <td>NaN</td>\n",
       "      <td>NaN</td>\n",
       "    </tr>\n",
       "  </tbody>\n",
       "</table>\n",
       "</div>"
      ],
      "text/plain": [
       "   Year  Month  DayofMonth  DayOfWeek  DepTime  CRSDepTime  ArrTime  \\\n",
       "0  2008      1           3          4   2003.0        1955   2211.0   \n",
       "1  2008      1           3          4    754.0         735   1002.0   \n",
       "2  2008      1           3          4    628.0         620    804.0   \n",
       "3  2008      1           3          4   1829.0        1755   1959.0   \n",
       "4  2008      1           3          4   1940.0        1915   2121.0   \n",
       "\n",
       "   CRSArrTime UniqueCarrier  FlightNum TailNum  ActualElapsedTime  \\\n",
       "0        2225            WN        335  N712SW              128.0   \n",
       "1        1000            WN       3231  N772SW              128.0   \n",
       "2         750            WN        448  N428WN               96.0   \n",
       "3        1925            WN       3920  N464WN               90.0   \n",
       "4        2110            WN        378  N726SW              101.0   \n",
       "\n",
       "   CRSElapsedTime  AirTime  ArrDelay  DepDelay Origin Dest  Distance  TaxiIn  \\\n",
       "0           150.0    116.0     -14.0       8.0    IAD  TPA       810     4.0   \n",
       "1           145.0    113.0       2.0      19.0    IAD  TPA       810     5.0   \n",
       "2            90.0     76.0      14.0       8.0    IND  BWI       515     3.0   \n",
       "3            90.0     77.0      34.0      34.0    IND  BWI       515     3.0   \n",
       "4           115.0     87.0      11.0      25.0    IND  JAX       688     4.0   \n",
       "\n",
       "   TaxiOut  Cancelled CancellationCode  Diverted  CarrierDelay  WeatherDelay  \\\n",
       "0      8.0          0                N         0           NaN           NaN   \n",
       "1     10.0          0                N         0           NaN           NaN   \n",
       "2     17.0          0                N         0           NaN           NaN   \n",
       "3     10.0          0                N         0           2.0           0.0   \n",
       "4     10.0          0                N         0           NaN           NaN   \n",
       "\n",
       "   NASDelay  SecurityDelay  LateAircraftDelay  \n",
       "0       NaN            NaN                NaN  \n",
       "1       NaN            NaN                NaN  \n",
       "2       NaN            NaN                NaN  \n",
       "3       0.0            0.0               32.0  \n",
       "4       NaN            NaN                NaN  "
      ]
     },
     "execution_count": 4,
     "metadata": {},
     "output_type": "execute_result"
    }
   ],
   "source": [
    "# S'elimina la primera columna\n",
    "df = df.drop(df.columns[0],axis=1)\n",
    "df.head()"
   ]
  },
  {
   "cell_type": "code",
   "execution_count": 5,
   "metadata": {},
   "outputs": [
    {
     "data": {
      "text/plain": [
       "(1936758, 29)"
      ]
     },
     "execution_count": 5,
     "metadata": {},
     "output_type": "execute_result"
    }
   ],
   "source": [
    "# Dimensió del dataset\n",
    "df.shape"
   ]
  },
  {
   "cell_type": "code",
   "execution_count": 6,
   "metadata": {
    "scrolled": false
   },
   "outputs": [
    {
     "data": {
      "text/plain": [
       "Year                      0\n",
       "Month                     0\n",
       "DayofMonth                0\n",
       "DayOfWeek                 0\n",
       "DepTime                   0\n",
       "CRSDepTime                0\n",
       "ArrTime                7110\n",
       "CRSArrTime                0\n",
       "UniqueCarrier             0\n",
       "FlightNum                 0\n",
       "TailNum                   5\n",
       "ActualElapsedTime      8387\n",
       "CRSElapsedTime          198\n",
       "AirTime                8387\n",
       "ArrDelay               8387\n",
       "DepDelay                  0\n",
       "Origin                    0\n",
       "Dest                      0\n",
       "Distance                  0\n",
       "TaxiIn                 7110\n",
       "TaxiOut                 455\n",
       "Cancelled                 0\n",
       "CancellationCode          0\n",
       "Diverted                  0\n",
       "CarrierDelay         689270\n",
       "WeatherDelay         689270\n",
       "NASDelay             689270\n",
       "SecurityDelay        689270\n",
       "LateAircraftDelay    689270\n",
       "dtype: int64"
      ]
     },
     "execution_count": 6,
     "metadata": {},
     "output_type": "execute_result"
    }
   ],
   "source": [
    "# Quantitat de null de cada variable\n",
    "df.isna().sum()"
   ]
  },
  {
   "cell_type": "code",
   "execution_count": 7,
   "metadata": {},
   "outputs": [],
   "source": [
    "# S'eliminen les columnes amb més de 500000 valors nuls\n",
    "df_2 = df.drop(['CarrierDelay', 'WeatherDelay', 'NASDelay', 'SecurityDelay', 'LateAircraftDelay'], axis=1)"
   ]
  },
  {
   "cell_type": "code",
   "execution_count": 8,
   "metadata": {},
   "outputs": [
    {
     "data": {
      "text/plain": [
       "Year                 0\n",
       "Month                0\n",
       "DayofMonth           0\n",
       "DayOfWeek            0\n",
       "DepTime              0\n",
       "CRSDepTime           0\n",
       "ArrTime              0\n",
       "CRSArrTime           0\n",
       "UniqueCarrier        0\n",
       "FlightNum            0\n",
       "TailNum              0\n",
       "ActualElapsedTime    0\n",
       "CRSElapsedTime       0\n",
       "AirTime              0\n",
       "ArrDelay             0\n",
       "DepDelay             0\n",
       "Origin               0\n",
       "Dest                 0\n",
       "Distance             0\n",
       "TaxiIn               0\n",
       "TaxiOut              0\n",
       "Cancelled            0\n",
       "CancellationCode     0\n",
       "Diverted             0\n",
       "dtype: int64"
      ]
     },
     "execution_count": 8,
     "metadata": {},
     "output_type": "execute_result"
    }
   ],
   "source": [
    "# S'eliminen totes les observacions amb algun registre nul\n",
    "df_2 = df_2.dropna(axis=0, how='any')\n",
    "df_2.isna().sum()"
   ]
  },
  {
   "cell_type": "code",
   "execution_count": 9,
   "metadata": {},
   "outputs": [
    {
     "data": {
      "text/plain": [
       "(1928368, 24)"
      ]
     },
     "execution_count": 9,
     "metadata": {},
     "output_type": "execute_result"
    }
   ],
   "source": [
    "# Dimensions de la base de dades\n",
    "df_2.shape"
   ]
  },
  {
   "cell_type": "markdown",
   "metadata": {},
   "source": [
    "<span style='color:blue;font-size:18px'> <b> Eliminació de variables </b> </span>"
   ]
  },
  {
   "cell_type": "code",
   "execution_count": 10,
   "metadata": {},
   "outputs": [
    {
     "data": {
      "text/html": [
       "<div>\n",
       "<style scoped>\n",
       "    .dataframe tbody tr th:only-of-type {\n",
       "        vertical-align: middle;\n",
       "    }\n",
       "\n",
       "    .dataframe tbody tr th {\n",
       "        vertical-align: top;\n",
       "    }\n",
       "\n",
       "    .dataframe thead th {\n",
       "        text-align: right;\n",
       "    }\n",
       "</style>\n",
       "<table border=\"1\" class=\"dataframe\">\n",
       "  <thead>\n",
       "    <tr style=\"text-align: right;\">\n",
       "      <th></th>\n",
       "      <th>Year</th>\n",
       "      <th>Month</th>\n",
       "      <th>DayofMonth</th>\n",
       "      <th>DayOfWeek</th>\n",
       "      <th>DepTime</th>\n",
       "      <th>CRSDepTime</th>\n",
       "      <th>ArrTime</th>\n",
       "      <th>CRSArrTime</th>\n",
       "      <th>FlightNum</th>\n",
       "      <th>ActualElapsedTime</th>\n",
       "      <th>CRSElapsedTime</th>\n",
       "      <th>AirTime</th>\n",
       "      <th>ArrDelay</th>\n",
       "      <th>DepDelay</th>\n",
       "      <th>Distance</th>\n",
       "      <th>TaxiIn</th>\n",
       "      <th>TaxiOut</th>\n",
       "      <th>Cancelled</th>\n",
       "      <th>Diverted</th>\n",
       "    </tr>\n",
       "  </thead>\n",
       "  <tbody>\n",
       "    <tr>\n",
       "      <th>count</th>\n",
       "      <td>1928368.0</td>\n",
       "      <td>1928368.000</td>\n",
       "      <td>1928368.000</td>\n",
       "      <td>1928368.000</td>\n",
       "      <td>1928368.000</td>\n",
       "      <td>1928368.000</td>\n",
       "      <td>1928368.000</td>\n",
       "      <td>1928368.000</td>\n",
       "      <td>1928368.000</td>\n",
       "      <td>1928368.000</td>\n",
       "      <td>1928368.000</td>\n",
       "      <td>1928368.000</td>\n",
       "      <td>1928368.000</td>\n",
       "      <td>1928368.000</td>\n",
       "      <td>1928368.000</td>\n",
       "      <td>1928368.000</td>\n",
       "      <td>1928368.000</td>\n",
       "      <td>1928368.0</td>\n",
       "      <td>1928368.0</td>\n",
       "    </tr>\n",
       "    <tr>\n",
       "      <th>mean</th>\n",
       "      <td>2008.0</td>\n",
       "      <td>6.108</td>\n",
       "      <td>15.752</td>\n",
       "      <td>3.985</td>\n",
       "      <td>1518.648</td>\n",
       "      <td>1467.717</td>\n",
       "      <td>1610.242</td>\n",
       "      <td>1634.196</td>\n",
       "      <td>2184.292</td>\n",
       "      <td>133.306</td>\n",
       "      <td>134.198</td>\n",
       "      <td>108.277</td>\n",
       "      <td>42.200</td>\n",
       "      <td>43.092</td>\n",
       "      <td>764.949</td>\n",
       "      <td>6.811</td>\n",
       "      <td>18.217</td>\n",
       "      <td>0.0</td>\n",
       "      <td>0.0</td>\n",
       "    </tr>\n",
       "    <tr>\n",
       "      <th>std</th>\n",
       "      <td>0.0</td>\n",
       "      <td>3.481</td>\n",
       "      <td>8.777</td>\n",
       "      <td>1.996</td>\n",
       "      <td>450.436</td>\n",
       "      <td>424.728</td>\n",
       "      <td>548.001</td>\n",
       "      <td>464.629</td>\n",
       "      <td>1944.448</td>\n",
       "      <td>72.060</td>\n",
       "      <td>71.233</td>\n",
       "      <td>68.643</td>\n",
       "      <td>56.784</td>\n",
       "      <td>53.266</td>\n",
       "      <td>573.886</td>\n",
       "      <td>5.268</td>\n",
       "      <td>14.308</td>\n",
       "      <td>0.0</td>\n",
       "      <td>0.0</td>\n",
       "    </tr>\n",
       "    <tr>\n",
       "      <th>min</th>\n",
       "      <td>2008.0</td>\n",
       "      <td>1.000</td>\n",
       "      <td>1.000</td>\n",
       "      <td>1.000</td>\n",
       "      <td>1.000</td>\n",
       "      <td>0.000</td>\n",
       "      <td>1.000</td>\n",
       "      <td>0.000</td>\n",
       "      <td>1.000</td>\n",
       "      <td>14.000</td>\n",
       "      <td>-21.000</td>\n",
       "      <td>0.000</td>\n",
       "      <td>-109.000</td>\n",
       "      <td>6.000</td>\n",
       "      <td>11.000</td>\n",
       "      <td>0.000</td>\n",
       "      <td>0.000</td>\n",
       "      <td>0.0</td>\n",
       "      <td>0.0</td>\n",
       "    </tr>\n",
       "    <tr>\n",
       "      <th>25%</th>\n",
       "      <td>2008.0</td>\n",
       "      <td>3.000</td>\n",
       "      <td>8.000</td>\n",
       "      <td>2.000</td>\n",
       "      <td>1203.000</td>\n",
       "      <td>1135.000</td>\n",
       "      <td>1316.000</td>\n",
       "      <td>1325.000</td>\n",
       "      <td>611.000</td>\n",
       "      <td>80.000</td>\n",
       "      <td>82.000</td>\n",
       "      <td>58.000</td>\n",
       "      <td>9.000</td>\n",
       "      <td>12.000</td>\n",
       "      <td>338.000</td>\n",
       "      <td>4.000</td>\n",
       "      <td>10.000</td>\n",
       "      <td>0.0</td>\n",
       "      <td>0.0</td>\n",
       "    </tr>\n",
       "    <tr>\n",
       "      <th>50%</th>\n",
       "      <td>2008.0</td>\n",
       "      <td>6.000</td>\n",
       "      <td>16.000</td>\n",
       "      <td>4.000</td>\n",
       "      <td>1545.000</td>\n",
       "      <td>1510.000</td>\n",
       "      <td>1715.000</td>\n",
       "      <td>1705.000</td>\n",
       "      <td>1543.000</td>\n",
       "      <td>116.000</td>\n",
       "      <td>116.000</td>\n",
       "      <td>90.000</td>\n",
       "      <td>24.000</td>\n",
       "      <td>24.000</td>\n",
       "      <td>606.000</td>\n",
       "      <td>6.000</td>\n",
       "      <td>14.000</td>\n",
       "      <td>0.0</td>\n",
       "      <td>0.0</td>\n",
       "    </tr>\n",
       "    <tr>\n",
       "      <th>75%</th>\n",
       "      <td>2008.0</td>\n",
       "      <td>9.000</td>\n",
       "      <td>23.000</td>\n",
       "      <td>6.000</td>\n",
       "      <td>1900.000</td>\n",
       "      <td>1815.000</td>\n",
       "      <td>2030.000</td>\n",
       "      <td>2014.000</td>\n",
       "      <td>3423.000</td>\n",
       "      <td>165.000</td>\n",
       "      <td>165.000</td>\n",
       "      <td>137.000</td>\n",
       "      <td>56.000</td>\n",
       "      <td>53.000</td>\n",
       "      <td>997.000</td>\n",
       "      <td>8.000</td>\n",
       "      <td>21.000</td>\n",
       "      <td>0.0</td>\n",
       "      <td>0.0</td>\n",
       "    </tr>\n",
       "    <tr>\n",
       "      <th>max</th>\n",
       "      <td>2008.0</td>\n",
       "      <td>12.000</td>\n",
       "      <td>31.000</td>\n",
       "      <td>7.000</td>\n",
       "      <td>2400.000</td>\n",
       "      <td>2359.000</td>\n",
       "      <td>2400.000</td>\n",
       "      <td>2359.000</td>\n",
       "      <td>9741.000</td>\n",
       "      <td>1114.000</td>\n",
       "      <td>660.000</td>\n",
       "      <td>1091.000</td>\n",
       "      <td>2461.000</td>\n",
       "      <td>2467.000</td>\n",
       "      <td>4962.000</td>\n",
       "      <td>240.000</td>\n",
       "      <td>422.000</td>\n",
       "      <td>0.0</td>\n",
       "      <td>0.0</td>\n",
       "    </tr>\n",
       "  </tbody>\n",
       "</table>\n",
       "</div>"
      ],
      "text/plain": [
       "            Year        Month   DayofMonth    DayOfWeek      DepTime  \\\n",
       "count  1928368.0  1928368.000  1928368.000  1928368.000  1928368.000   \n",
       "mean      2008.0        6.108       15.752        3.985     1518.648   \n",
       "std          0.0        3.481        8.777        1.996      450.436   \n",
       "min       2008.0        1.000        1.000        1.000        1.000   \n",
       "25%       2008.0        3.000        8.000        2.000     1203.000   \n",
       "50%       2008.0        6.000       16.000        4.000     1545.000   \n",
       "75%       2008.0        9.000       23.000        6.000     1900.000   \n",
       "max       2008.0       12.000       31.000        7.000     2400.000   \n",
       "\n",
       "        CRSDepTime      ArrTime   CRSArrTime    FlightNum  ActualElapsedTime  \\\n",
       "count  1928368.000  1928368.000  1928368.000  1928368.000        1928368.000   \n",
       "mean      1467.717     1610.242     1634.196     2184.292            133.306   \n",
       "std        424.728      548.001      464.629     1944.448             72.060   \n",
       "min          0.000        1.000        0.000        1.000             14.000   \n",
       "25%       1135.000     1316.000     1325.000      611.000             80.000   \n",
       "50%       1510.000     1715.000     1705.000     1543.000            116.000   \n",
       "75%       1815.000     2030.000     2014.000     3423.000            165.000   \n",
       "max       2359.000     2400.000     2359.000     9741.000           1114.000   \n",
       "\n",
       "       CRSElapsedTime      AirTime     ArrDelay     DepDelay     Distance  \\\n",
       "count     1928368.000  1928368.000  1928368.000  1928368.000  1928368.000   \n",
       "mean          134.198      108.277       42.200       43.092      764.949   \n",
       "std            71.233       68.643       56.784       53.266      573.886   \n",
       "min           -21.000        0.000     -109.000        6.000       11.000   \n",
       "25%            82.000       58.000        9.000       12.000      338.000   \n",
       "50%           116.000       90.000       24.000       24.000      606.000   \n",
       "75%           165.000      137.000       56.000       53.000      997.000   \n",
       "max           660.000     1091.000     2461.000     2467.000     4962.000   \n",
       "\n",
       "            TaxiIn      TaxiOut  Cancelled   Diverted  \n",
       "count  1928368.000  1928368.000  1928368.0  1928368.0  \n",
       "mean         6.811       18.217        0.0        0.0  \n",
       "std          5.268       14.308        0.0        0.0  \n",
       "min          0.000        0.000        0.0        0.0  \n",
       "25%          4.000       10.000        0.0        0.0  \n",
       "50%          6.000       14.000        0.0        0.0  \n",
       "75%          8.000       21.000        0.0        0.0  \n",
       "max        240.000      422.000        0.0        0.0  "
      ]
     },
     "execution_count": 10,
     "metadata": {},
     "output_type": "execute_result"
    }
   ],
   "source": [
    "# Descriptiu de les variables numèriques\n",
    "df_2.describe().round(3)"
   ]
  },
  {
   "cell_type": "code",
   "execution_count": 11,
   "metadata": {},
   "outputs": [
    {
     "data": {
      "text/html": [
       "<div>\n",
       "<style scoped>\n",
       "    .dataframe tbody tr th:only-of-type {\n",
       "        vertical-align: middle;\n",
       "    }\n",
       "\n",
       "    .dataframe tbody tr th {\n",
       "        vertical-align: top;\n",
       "    }\n",
       "\n",
       "    .dataframe thead th {\n",
       "        text-align: right;\n",
       "    }\n",
       "</style>\n",
       "<table border=\"1\" class=\"dataframe\">\n",
       "  <thead>\n",
       "    <tr style=\"text-align: right;\">\n",
       "      <th></th>\n",
       "      <th>UniqueCarrier</th>\n",
       "      <th>TailNum</th>\n",
       "      <th>Origin</th>\n",
       "      <th>Dest</th>\n",
       "      <th>CancellationCode</th>\n",
       "    </tr>\n",
       "  </thead>\n",
       "  <tbody>\n",
       "    <tr>\n",
       "      <th>count</th>\n",
       "      <td>1928368</td>\n",
       "      <td>1928368</td>\n",
       "      <td>1928368</td>\n",
       "      <td>1928368</td>\n",
       "      <td>1928368</td>\n",
       "    </tr>\n",
       "    <tr>\n",
       "      <th>unique</th>\n",
       "      <td>20</td>\n",
       "      <td>5360</td>\n",
       "      <td>303</td>\n",
       "      <td>302</td>\n",
       "      <td>1</td>\n",
       "    </tr>\n",
       "    <tr>\n",
       "      <th>top</th>\n",
       "      <td>WN</td>\n",
       "      <td>N325SW</td>\n",
       "      <td>ATL</td>\n",
       "      <td>ORD</td>\n",
       "      <td>N</td>\n",
       "    </tr>\n",
       "    <tr>\n",
       "      <th>freq</th>\n",
       "      <td>376201</td>\n",
       "      <td>961</td>\n",
       "      <td>131213</td>\n",
       "      <td>108265</td>\n",
       "      <td>1928368</td>\n",
       "    </tr>\n",
       "  </tbody>\n",
       "</table>\n",
       "</div>"
      ],
      "text/plain": [
       "       UniqueCarrier  TailNum   Origin     Dest CancellationCode\n",
       "count        1928368  1928368  1928368  1928368          1928368\n",
       "unique            20     5360      303      302                1\n",
       "top               WN   N325SW      ATL      ORD                N\n",
       "freq          376201      961   131213   108265          1928368"
      ]
     },
     "execution_count": 11,
     "metadata": {},
     "output_type": "execute_result"
    }
   ],
   "source": [
    "# Descriptiu de les variables categòriques\n",
    "df_2.describe(include='object')"
   ]
  },
  {
   "cell_type": "code",
   "execution_count": 12,
   "metadata": {},
   "outputs": [
    {
     "data": {
      "text/plain": [
       "7498"
      ]
     },
     "execution_count": 12,
     "metadata": {},
     "output_type": "execute_result"
    }
   ],
   "source": [
    "# La variable 'FlightNum' es tracta d'una variable categòrica encara que s'hagi importat com a numèrica.\n",
    "# Es calcula el nombre de categories de la variable\n",
    "len(df_2['FlightNum'].unique())"
   ]
  },
  {
   "cell_type": "code",
   "execution_count": 12,
   "metadata": {},
   "outputs": [],
   "source": [
    "# S'eliminen les variables categòriques DayofMonth, TailNum, Origin, Dest i FlightNum per tenir moltes categories.\n",
    "df_2 = df_2.drop(['TailNum', 'Origin', 'Dest', 'DayofMonth','FlightNum'], axis=1)"
   ]
  },
  {
   "cell_type": "code",
   "execution_count": 13,
   "metadata": {
    "scrolled": false
   },
   "outputs": [],
   "source": [
    "# S'eliminen les variables Cancelled, Diverted, CancellationCode i Year porquè només tenen un únic valor.\n",
    "df_2 = df_2.drop(['Year', 'Cancelled', 'Diverted', 'CancellationCode'], axis=1)"
   ]
  },
  {
   "cell_type": "code",
   "execution_count": 14,
   "metadata": {},
   "outputs": [],
   "source": [
    "# S'eliminen les variables DepTime, CRSDepTime, ArrTime i CRSArrTime perquè indiquen l'hora d'un esdeveniment.\n",
    "df_2 = df_2.drop(['DepTime', 'CRSDepTime', 'ArrTime', 'CRSArrTime'], axis=1)"
   ]
  },
  {
   "cell_type": "code",
   "execution_count": 15,
   "metadata": {},
   "outputs": [],
   "source": [
    "# S'eliminen les variables CRSElapsedTime i DayOfWeek perquè es considera que no serveixen per predir la variable objectiu 'ArrDelay'.\n",
    "df_2 = df_2.drop(['DayOfWeek', 'CRSElapsedTime'], axis=1)"
   ]
  },
  {
   "cell_type": "code",
   "execution_count": 16,
   "metadata": {},
   "outputs": [
    {
     "data": {
      "text/plain": [
       "0.06813024884504432"
      ]
     },
     "execution_count": 16,
     "metadata": {},
     "output_type": "execute_result"
    }
   ],
   "source": [
    "# Correlació lineal entre ArrDelay i ActualElapsedTime\n",
    "df_2['ArrDelay'].corr(df_2['ActualElapsedTime'])"
   ]
  },
  {
   "cell_type": "code",
   "execution_count": 17,
   "metadata": {},
   "outputs": [],
   "source": [
    "# S'elimina la variable ActualElapsedTime perquè no està correlacionada linealment amb la variable objectiu ArrDelay\n",
    "df_2 = df_2.drop(['ActualElapsedTime'], axis=1)"
   ]
  },
  {
   "cell_type": "code",
   "execution_count": 18,
   "metadata": {},
   "outputs": [],
   "source": [
    "# Es crea una copia\n",
    "df_3 = df_2.copy()"
   ]
  },
  {
   "cell_type": "code",
   "execution_count": 19,
   "metadata": {},
   "outputs": [
    {
     "data": {
      "text/html": [
       "<div>\n",
       "<style scoped>\n",
       "    .dataframe tbody tr th:only-of-type {\n",
       "        vertical-align: middle;\n",
       "    }\n",
       "\n",
       "    .dataframe tbody tr th {\n",
       "        vertical-align: top;\n",
       "    }\n",
       "\n",
       "    .dataframe thead th {\n",
       "        text-align: right;\n",
       "    }\n",
       "</style>\n",
       "<table border=\"1\" class=\"dataframe\">\n",
       "  <thead>\n",
       "    <tr style=\"text-align: right;\">\n",
       "      <th></th>\n",
       "      <th>Month</th>\n",
       "      <th>UniqueCarrier</th>\n",
       "      <th>AirTime</th>\n",
       "      <th>ArrDelay</th>\n",
       "      <th>DepDelay</th>\n",
       "      <th>Distance</th>\n",
       "      <th>TaxiIn</th>\n",
       "      <th>TaxiOut</th>\n",
       "    </tr>\n",
       "  </thead>\n",
       "  <tbody>\n",
       "    <tr>\n",
       "      <th>0</th>\n",
       "      <td>1</td>\n",
       "      <td>WN</td>\n",
       "      <td>116.0</td>\n",
       "      <td>-14.0</td>\n",
       "      <td>8.0</td>\n",
       "      <td>810</td>\n",
       "      <td>4.0</td>\n",
       "      <td>8.0</td>\n",
       "    </tr>\n",
       "    <tr>\n",
       "      <th>1</th>\n",
       "      <td>1</td>\n",
       "      <td>WN</td>\n",
       "      <td>113.0</td>\n",
       "      <td>2.0</td>\n",
       "      <td>19.0</td>\n",
       "      <td>810</td>\n",
       "      <td>5.0</td>\n",
       "      <td>10.0</td>\n",
       "    </tr>\n",
       "    <tr>\n",
       "      <th>2</th>\n",
       "      <td>1</td>\n",
       "      <td>WN</td>\n",
       "      <td>76.0</td>\n",
       "      <td>14.0</td>\n",
       "      <td>8.0</td>\n",
       "      <td>515</td>\n",
       "      <td>3.0</td>\n",
       "      <td>17.0</td>\n",
       "    </tr>\n",
       "    <tr>\n",
       "      <th>3</th>\n",
       "      <td>1</td>\n",
       "      <td>WN</td>\n",
       "      <td>77.0</td>\n",
       "      <td>34.0</td>\n",
       "      <td>34.0</td>\n",
       "      <td>515</td>\n",
       "      <td>3.0</td>\n",
       "      <td>10.0</td>\n",
       "    </tr>\n",
       "    <tr>\n",
       "      <th>4</th>\n",
       "      <td>1</td>\n",
       "      <td>WN</td>\n",
       "      <td>87.0</td>\n",
       "      <td>11.0</td>\n",
       "      <td>25.0</td>\n",
       "      <td>688</td>\n",
       "      <td>4.0</td>\n",
       "      <td>10.0</td>\n",
       "    </tr>\n",
       "  </tbody>\n",
       "</table>\n",
       "</div>"
      ],
      "text/plain": [
       "   Month UniqueCarrier  AirTime  ArrDelay  DepDelay  Distance  TaxiIn  TaxiOut\n",
       "0      1            WN    116.0     -14.0       8.0       810     4.0      8.0\n",
       "1      1            WN    113.0       2.0      19.0       810     5.0     10.0\n",
       "2      1            WN     76.0      14.0       8.0       515     3.0     17.0\n",
       "3      1            WN     77.0      34.0      34.0       515     3.0     10.0\n",
       "4      1            WN     87.0      11.0      25.0       688     4.0     10.0"
      ]
     },
     "execution_count": 19,
     "metadata": {},
     "output_type": "execute_result"
    }
   ],
   "source": [
    "# Dataset fins el moment\n",
    "df_3.head()"
   ]
  },
  {
   "cell_type": "markdown",
   "metadata": {},
   "source": [
    "## Selecció de la mostra"
   ]
  },
  {
   "cell_type": "code",
   "execution_count": 20,
   "metadata": {},
   "outputs": [
    {
     "data": {
      "text/plain": [
       "(1928368, 8)"
      ]
     },
     "execution_count": 20,
     "metadata": {},
     "output_type": "execute_result"
    }
   ],
   "source": [
    "# Dimensions\n",
    "df_3.shape"
   ]
  },
  {
   "cell_type": "markdown",
   "metadata": {},
   "source": [
    "<span style='color:blue;font-size:15px'> Com que la base de dades és massa gran, es decideix obtenir una mostra de 10000 observacions. El métode de mostreig escollit és l'aleatori simple, encara que caldria estudiar si alguna de les variables restants serviria per a estratificar la mostra. </span>"
   ]
  },
  {
   "cell_type": "code",
   "execution_count": 21,
   "metadata": {},
   "outputs": [],
   "source": [
    "# Mostra aleatoria simple de 10000 observacions\n",
    "k = 10000\n",
    "dfs = df_3.sample(k,random_state=1234)"
   ]
  },
  {
   "cell_type": "markdown",
   "metadata": {},
   "source": [
    "## Creació de noves variables"
   ]
  },
  {
   "cell_type": "code",
   "execution_count": 22,
   "metadata": {},
   "outputs": [
    {
     "data": {
      "text/html": [
       "<div>\n",
       "<style scoped>\n",
       "    .dataframe tbody tr th:only-of-type {\n",
       "        vertical-align: middle;\n",
       "    }\n",
       "\n",
       "    .dataframe tbody tr th {\n",
       "        vertical-align: top;\n",
       "    }\n",
       "\n",
       "    .dataframe thead th {\n",
       "        text-align: right;\n",
       "    }\n",
       "</style>\n",
       "<table border=\"1\" class=\"dataframe\">\n",
       "  <thead>\n",
       "    <tr style=\"text-align: right;\">\n",
       "      <th></th>\n",
       "      <th>Month</th>\n",
       "      <th>UniqueCarrier</th>\n",
       "      <th>AirTime</th>\n",
       "      <th>ArrDelay</th>\n",
       "      <th>DepDelay</th>\n",
       "      <th>Distance</th>\n",
       "      <th>TaxiIn</th>\n",
       "      <th>TaxiOut</th>\n",
       "      <th>VelMitja</th>\n",
       "    </tr>\n",
       "  </thead>\n",
       "  <tbody>\n",
       "    <tr>\n",
       "      <th>276255</th>\n",
       "      <td>2</td>\n",
       "      <td>US</td>\n",
       "      <td>98.0</td>\n",
       "      <td>21.0</td>\n",
       "      <td>31.0</td>\n",
       "      <td>728</td>\n",
       "      <td>7.0</td>\n",
       "      <td>12.0</td>\n",
       "      <td>445.71</td>\n",
       "    </tr>\n",
       "    <tr>\n",
       "      <th>1253643</th>\n",
       "      <td>7</td>\n",
       "      <td>CO</td>\n",
       "      <td>191.0</td>\n",
       "      <td>0.0</td>\n",
       "      <td>6.0</td>\n",
       "      <td>1417</td>\n",
       "      <td>8.0</td>\n",
       "      <td>24.0</td>\n",
       "      <td>445.13</td>\n",
       "    </tr>\n",
       "    <tr>\n",
       "      <th>607829</th>\n",
       "      <td>4</td>\n",
       "      <td>XE</td>\n",
       "      <td>30.0</td>\n",
       "      <td>72.0</td>\n",
       "      <td>47.0</td>\n",
       "      <td>143</td>\n",
       "      <td>4.0</td>\n",
       "      <td>65.0</td>\n",
       "      <td>286.00</td>\n",
       "    </tr>\n",
       "    <tr>\n",
       "      <th>1059724</th>\n",
       "      <td>6</td>\n",
       "      <td>AS</td>\n",
       "      <td>33.0</td>\n",
       "      <td>45.0</td>\n",
       "      <td>34.0</td>\n",
       "      <td>95</td>\n",
       "      <td>3.0</td>\n",
       "      <td>17.0</td>\n",
       "      <td>172.73</td>\n",
       "    </tr>\n",
       "    <tr>\n",
       "      <th>407269</th>\n",
       "      <td>3</td>\n",
       "      <td>WN</td>\n",
       "      <td>72.0</td>\n",
       "      <td>18.0</td>\n",
       "      <td>21.0</td>\n",
       "      <td>397</td>\n",
       "      <td>3.0</td>\n",
       "      <td>12.0</td>\n",
       "      <td>330.83</td>\n",
       "    </tr>\n",
       "  </tbody>\n",
       "</table>\n",
       "</div>"
      ],
      "text/plain": [
       "         Month UniqueCarrier  AirTime  ArrDelay  DepDelay  Distance  TaxiIn  \\\n",
       "276255       2            US     98.0      21.0      31.0       728     7.0   \n",
       "1253643      7            CO    191.0       0.0       6.0      1417     8.0   \n",
       "607829       4            XE     30.0      72.0      47.0       143     4.0   \n",
       "1059724      6            AS     33.0      45.0      34.0        95     3.0   \n",
       "407269       3            WN     72.0      18.0      21.0       397     3.0   \n",
       "\n",
       "         TaxiOut  VelMitja  \n",
       "276255      12.0    445.71  \n",
       "1253643     24.0    445.13  \n",
       "607829      65.0    286.00  \n",
       "1059724     17.0    172.73  \n",
       "407269      12.0    330.83  "
      ]
     },
     "execution_count": 22,
     "metadata": {},
     "output_type": "execute_result"
    }
   ],
   "source": [
    "# Variable Velocitat Mitja, que és la divisió entre la distancia (en milles) i el temps (en hores).\n",
    "dfs['VelMitja'] = round(dfs['Distance']/(dfs['AirTime']/60),2)\n",
    "dfs.head()"
   ]
  },
  {
   "cell_type": "code",
   "execution_count": 23,
   "metadata": {},
   "outputs": [],
   "source": [
    "# S'eliminen les variables AirTime i Distance.\n",
    "dfs = dfs.drop(['AirTime','Distance'],axis=1)"
   ]
  },
  {
   "cell_type": "code",
   "execution_count": 24,
   "metadata": {},
   "outputs": [
    {
     "data": {
      "text/html": [
       "<div>\n",
       "<style scoped>\n",
       "    .dataframe tbody tr th:only-of-type {\n",
       "        vertical-align: middle;\n",
       "    }\n",
       "\n",
       "    .dataframe tbody tr th {\n",
       "        vertical-align: top;\n",
       "    }\n",
       "\n",
       "    .dataframe thead th {\n",
       "        text-align: right;\n",
       "    }\n",
       "</style>\n",
       "<table border=\"1\" class=\"dataframe\">\n",
       "  <thead>\n",
       "    <tr style=\"text-align: right;\">\n",
       "      <th></th>\n",
       "      <th>Month</th>\n",
       "      <th>Trimestre</th>\n",
       "    </tr>\n",
       "  </thead>\n",
       "  <tbody>\n",
       "    <tr>\n",
       "      <th>276255</th>\n",
       "      <td>2</td>\n",
       "      <td>Trim_1</td>\n",
       "    </tr>\n",
       "    <tr>\n",
       "      <th>1253643</th>\n",
       "      <td>7</td>\n",
       "      <td>Trim_3</td>\n",
       "    </tr>\n",
       "    <tr>\n",
       "      <th>607829</th>\n",
       "      <td>4</td>\n",
       "      <td>Trim_2</td>\n",
       "    </tr>\n",
       "    <tr>\n",
       "      <th>1059724</th>\n",
       "      <td>6</td>\n",
       "      <td>Trim_2</td>\n",
       "    </tr>\n",
       "    <tr>\n",
       "      <th>407269</th>\n",
       "      <td>3</td>\n",
       "      <td>Trim_1</td>\n",
       "    </tr>\n",
       "    <tr>\n",
       "      <th>...</th>\n",
       "      <td>...</td>\n",
       "      <td>...</td>\n",
       "    </tr>\n",
       "    <tr>\n",
       "      <th>1136053</th>\n",
       "      <td>7</td>\n",
       "      <td>Trim_3</td>\n",
       "    </tr>\n",
       "    <tr>\n",
       "      <th>1389963</th>\n",
       "      <td>8</td>\n",
       "      <td>Trim_3</td>\n",
       "    </tr>\n",
       "    <tr>\n",
       "      <th>1668722</th>\n",
       "      <td>11</td>\n",
       "      <td>Trim_4</td>\n",
       "    </tr>\n",
       "    <tr>\n",
       "      <th>1726767</th>\n",
       "      <td>11</td>\n",
       "      <td>Trim_4</td>\n",
       "    </tr>\n",
       "    <tr>\n",
       "      <th>427698</th>\n",
       "      <td>3</td>\n",
       "      <td>Trim_1</td>\n",
       "    </tr>\n",
       "  </tbody>\n",
       "</table>\n",
       "<p>10000 rows × 2 columns</p>\n",
       "</div>"
      ],
      "text/plain": [
       "         Month Trimestre\n",
       "276255       2    Trim_1\n",
       "1253643      7    Trim_3\n",
       "607829       4    Trim_2\n",
       "1059724      6    Trim_2\n",
       "407269       3    Trim_1\n",
       "...        ...       ...\n",
       "1136053      7    Trim_3\n",
       "1389963      8    Trim_3\n",
       "1668722     11    Trim_4\n",
       "1726767     11    Trim_4\n",
       "427698       3    Trim_1\n",
       "\n",
       "[10000 rows x 2 columns]"
      ]
     },
     "execution_count": 24,
     "metadata": {},
     "output_type": "execute_result"
    }
   ],
   "source": [
    "# Es crea la variable Trimestre, que dividieix els mesos en quartre parts.\n",
    "dfs['Trimestre'] = np.where((dfs['Month'] == 1) | (dfs['Month'] == 2) | (dfs['Month'] == 3), 'Trim_1', \n",
    "                             np.where((dfs['Month'] == 4) | (dfs['Month'] == 5) | (dfs['Month'] == 6), 'Trim_2', \n",
    "                                      np.where((dfs['Month'] == 7) | (dfs['Month'] == 8) | (dfs['Month'] == 9), 'Trim_3', 'Trim_4')))\n",
    "dfs[['Month','Trimestre']]"
   ]
  },
  {
   "cell_type": "code",
   "execution_count": 25,
   "metadata": {},
   "outputs": [],
   "source": [
    "# S'elimina la variable Month\n",
    "dfs = dfs.drop(['Month'],axis=1)"
   ]
  },
  {
   "cell_type": "code",
   "execution_count": 26,
   "metadata": {},
   "outputs": [
    {
     "data": {
      "text/html": [
       "<div>\n",
       "<style scoped>\n",
       "    .dataframe tbody tr th:only-of-type {\n",
       "        vertical-align: middle;\n",
       "    }\n",
       "\n",
       "    .dataframe tbody tr th {\n",
       "        vertical-align: top;\n",
       "    }\n",
       "\n",
       "    .dataframe thead th {\n",
       "        text-align: right;\n",
       "    }\n",
       "</style>\n",
       "<table border=\"1\" class=\"dataframe\">\n",
       "  <thead>\n",
       "    <tr style=\"text-align: right;\">\n",
       "      <th></th>\n",
       "      <th>Trim_1</th>\n",
       "      <th>Trim_2</th>\n",
       "      <th>Trim_3</th>\n",
       "      <th>Trim_4</th>\n",
       "      <th>UC_9E</th>\n",
       "      <th>UC_AA</th>\n",
       "      <th>UC_AQ</th>\n",
       "      <th>UC_AS</th>\n",
       "      <th>UC_B6</th>\n",
       "      <th>UC_CO</th>\n",
       "      <th>UC_DL</th>\n",
       "      <th>UC_EV</th>\n",
       "      <th>UC_F9</th>\n",
       "      <th>UC_FL</th>\n",
       "      <th>UC_HA</th>\n",
       "      <th>UC_MQ</th>\n",
       "      <th>UC_NW</th>\n",
       "      <th>UC_OH</th>\n",
       "      <th>UC_OO</th>\n",
       "      <th>UC_UA</th>\n",
       "      <th>UC_US</th>\n",
       "      <th>UC_WN</th>\n",
       "      <th>UC_XE</th>\n",
       "      <th>UC_YV</th>\n",
       "    </tr>\n",
       "  </thead>\n",
       "  <tbody>\n",
       "    <tr>\n",
       "      <th>276255</th>\n",
       "      <td>1</td>\n",
       "      <td>0</td>\n",
       "      <td>0</td>\n",
       "      <td>0</td>\n",
       "      <td>0</td>\n",
       "      <td>0</td>\n",
       "      <td>0</td>\n",
       "      <td>0</td>\n",
       "      <td>0</td>\n",
       "      <td>0</td>\n",
       "      <td>0</td>\n",
       "      <td>0</td>\n",
       "      <td>0</td>\n",
       "      <td>0</td>\n",
       "      <td>0</td>\n",
       "      <td>0</td>\n",
       "      <td>0</td>\n",
       "      <td>0</td>\n",
       "      <td>0</td>\n",
       "      <td>0</td>\n",
       "      <td>1</td>\n",
       "      <td>0</td>\n",
       "      <td>0</td>\n",
       "      <td>0</td>\n",
       "    </tr>\n",
       "    <tr>\n",
       "      <th>1253643</th>\n",
       "      <td>0</td>\n",
       "      <td>0</td>\n",
       "      <td>1</td>\n",
       "      <td>0</td>\n",
       "      <td>0</td>\n",
       "      <td>0</td>\n",
       "      <td>0</td>\n",
       "      <td>0</td>\n",
       "      <td>0</td>\n",
       "      <td>1</td>\n",
       "      <td>0</td>\n",
       "      <td>0</td>\n",
       "      <td>0</td>\n",
       "      <td>0</td>\n",
       "      <td>0</td>\n",
       "      <td>0</td>\n",
       "      <td>0</td>\n",
       "      <td>0</td>\n",
       "      <td>0</td>\n",
       "      <td>0</td>\n",
       "      <td>0</td>\n",
       "      <td>0</td>\n",
       "      <td>0</td>\n",
       "      <td>0</td>\n",
       "    </tr>\n",
       "    <tr>\n",
       "      <th>607829</th>\n",
       "      <td>0</td>\n",
       "      <td>1</td>\n",
       "      <td>0</td>\n",
       "      <td>0</td>\n",
       "      <td>0</td>\n",
       "      <td>0</td>\n",
       "      <td>0</td>\n",
       "      <td>0</td>\n",
       "      <td>0</td>\n",
       "      <td>0</td>\n",
       "      <td>0</td>\n",
       "      <td>0</td>\n",
       "      <td>0</td>\n",
       "      <td>0</td>\n",
       "      <td>0</td>\n",
       "      <td>0</td>\n",
       "      <td>0</td>\n",
       "      <td>0</td>\n",
       "      <td>0</td>\n",
       "      <td>0</td>\n",
       "      <td>0</td>\n",
       "      <td>0</td>\n",
       "      <td>1</td>\n",
       "      <td>0</td>\n",
       "    </tr>\n",
       "    <tr>\n",
       "      <th>1059724</th>\n",
       "      <td>0</td>\n",
       "      <td>1</td>\n",
       "      <td>0</td>\n",
       "      <td>0</td>\n",
       "      <td>0</td>\n",
       "      <td>0</td>\n",
       "      <td>0</td>\n",
       "      <td>1</td>\n",
       "      <td>0</td>\n",
       "      <td>0</td>\n",
       "      <td>0</td>\n",
       "      <td>0</td>\n",
       "      <td>0</td>\n",
       "      <td>0</td>\n",
       "      <td>0</td>\n",
       "      <td>0</td>\n",
       "      <td>0</td>\n",
       "      <td>0</td>\n",
       "      <td>0</td>\n",
       "      <td>0</td>\n",
       "      <td>0</td>\n",
       "      <td>0</td>\n",
       "      <td>0</td>\n",
       "      <td>0</td>\n",
       "    </tr>\n",
       "    <tr>\n",
       "      <th>407269</th>\n",
       "      <td>1</td>\n",
       "      <td>0</td>\n",
       "      <td>0</td>\n",
       "      <td>0</td>\n",
       "      <td>0</td>\n",
       "      <td>0</td>\n",
       "      <td>0</td>\n",
       "      <td>0</td>\n",
       "      <td>0</td>\n",
       "      <td>0</td>\n",
       "      <td>0</td>\n",
       "      <td>0</td>\n",
       "      <td>0</td>\n",
       "      <td>0</td>\n",
       "      <td>0</td>\n",
       "      <td>0</td>\n",
       "      <td>0</td>\n",
       "      <td>0</td>\n",
       "      <td>0</td>\n",
       "      <td>0</td>\n",
       "      <td>0</td>\n",
       "      <td>1</td>\n",
       "      <td>0</td>\n",
       "      <td>0</td>\n",
       "    </tr>\n",
       "    <tr>\n",
       "      <th>...</th>\n",
       "      <td>...</td>\n",
       "      <td>...</td>\n",
       "      <td>...</td>\n",
       "      <td>...</td>\n",
       "      <td>...</td>\n",
       "      <td>...</td>\n",
       "      <td>...</td>\n",
       "      <td>...</td>\n",
       "      <td>...</td>\n",
       "      <td>...</td>\n",
       "      <td>...</td>\n",
       "      <td>...</td>\n",
       "      <td>...</td>\n",
       "      <td>...</td>\n",
       "      <td>...</td>\n",
       "      <td>...</td>\n",
       "      <td>...</td>\n",
       "      <td>...</td>\n",
       "      <td>...</td>\n",
       "      <td>...</td>\n",
       "      <td>...</td>\n",
       "      <td>...</td>\n",
       "      <td>...</td>\n",
       "      <td>...</td>\n",
       "    </tr>\n",
       "    <tr>\n",
       "      <th>1136053</th>\n",
       "      <td>0</td>\n",
       "      <td>0</td>\n",
       "      <td>1</td>\n",
       "      <td>0</td>\n",
       "      <td>0</td>\n",
       "      <td>0</td>\n",
       "      <td>0</td>\n",
       "      <td>0</td>\n",
       "      <td>0</td>\n",
       "      <td>0</td>\n",
       "      <td>0</td>\n",
       "      <td>0</td>\n",
       "      <td>0</td>\n",
       "      <td>0</td>\n",
       "      <td>0</td>\n",
       "      <td>0</td>\n",
       "      <td>0</td>\n",
       "      <td>0</td>\n",
       "      <td>1</td>\n",
       "      <td>0</td>\n",
       "      <td>0</td>\n",
       "      <td>0</td>\n",
       "      <td>0</td>\n",
       "      <td>0</td>\n",
       "    </tr>\n",
       "    <tr>\n",
       "      <th>1389963</th>\n",
       "      <td>0</td>\n",
       "      <td>0</td>\n",
       "      <td>1</td>\n",
       "      <td>0</td>\n",
       "      <td>0</td>\n",
       "      <td>1</td>\n",
       "      <td>0</td>\n",
       "      <td>0</td>\n",
       "      <td>0</td>\n",
       "      <td>0</td>\n",
       "      <td>0</td>\n",
       "      <td>0</td>\n",
       "      <td>0</td>\n",
       "      <td>0</td>\n",
       "      <td>0</td>\n",
       "      <td>0</td>\n",
       "      <td>0</td>\n",
       "      <td>0</td>\n",
       "      <td>0</td>\n",
       "      <td>0</td>\n",
       "      <td>0</td>\n",
       "      <td>0</td>\n",
       "      <td>0</td>\n",
       "      <td>0</td>\n",
       "    </tr>\n",
       "    <tr>\n",
       "      <th>1668722</th>\n",
       "      <td>0</td>\n",
       "      <td>0</td>\n",
       "      <td>0</td>\n",
       "      <td>1</td>\n",
       "      <td>0</td>\n",
       "      <td>0</td>\n",
       "      <td>0</td>\n",
       "      <td>0</td>\n",
       "      <td>0</td>\n",
       "      <td>0</td>\n",
       "      <td>0</td>\n",
       "      <td>0</td>\n",
       "      <td>0</td>\n",
       "      <td>0</td>\n",
       "      <td>0</td>\n",
       "      <td>0</td>\n",
       "      <td>0</td>\n",
       "      <td>0</td>\n",
       "      <td>0</td>\n",
       "      <td>1</td>\n",
       "      <td>0</td>\n",
       "      <td>0</td>\n",
       "      <td>0</td>\n",
       "      <td>0</td>\n",
       "    </tr>\n",
       "    <tr>\n",
       "      <th>1726767</th>\n",
       "      <td>0</td>\n",
       "      <td>0</td>\n",
       "      <td>0</td>\n",
       "      <td>1</td>\n",
       "      <td>0</td>\n",
       "      <td>0</td>\n",
       "      <td>0</td>\n",
       "      <td>0</td>\n",
       "      <td>0</td>\n",
       "      <td>1</td>\n",
       "      <td>0</td>\n",
       "      <td>0</td>\n",
       "      <td>0</td>\n",
       "      <td>0</td>\n",
       "      <td>0</td>\n",
       "      <td>0</td>\n",
       "      <td>0</td>\n",
       "      <td>0</td>\n",
       "      <td>0</td>\n",
       "      <td>0</td>\n",
       "      <td>0</td>\n",
       "      <td>0</td>\n",
       "      <td>0</td>\n",
       "      <td>0</td>\n",
       "    </tr>\n",
       "    <tr>\n",
       "      <th>427698</th>\n",
       "      <td>1</td>\n",
       "      <td>0</td>\n",
       "      <td>0</td>\n",
       "      <td>0</td>\n",
       "      <td>0</td>\n",
       "      <td>0</td>\n",
       "      <td>0</td>\n",
       "      <td>0</td>\n",
       "      <td>0</td>\n",
       "      <td>0</td>\n",
       "      <td>0</td>\n",
       "      <td>0</td>\n",
       "      <td>0</td>\n",
       "      <td>0</td>\n",
       "      <td>0</td>\n",
       "      <td>0</td>\n",
       "      <td>0</td>\n",
       "      <td>0</td>\n",
       "      <td>0</td>\n",
       "      <td>0</td>\n",
       "      <td>0</td>\n",
       "      <td>0</td>\n",
       "      <td>0</td>\n",
       "      <td>1</td>\n",
       "    </tr>\n",
       "  </tbody>\n",
       "</table>\n",
       "<p>10000 rows × 24 columns</p>\n",
       "</div>"
      ],
      "text/plain": [
       "         Trim_1  Trim_2  Trim_3  Trim_4  UC_9E  UC_AA  UC_AQ  UC_AS  UC_B6  \\\n",
       "276255        1       0       0       0      0      0      0      0      0   \n",
       "1253643       0       0       1       0      0      0      0      0      0   \n",
       "607829        0       1       0       0      0      0      0      0      0   \n",
       "1059724       0       1       0       0      0      0      0      1      0   \n",
       "407269        1       0       0       0      0      0      0      0      0   \n",
       "...         ...     ...     ...     ...    ...    ...    ...    ...    ...   \n",
       "1136053       0       0       1       0      0      0      0      0      0   \n",
       "1389963       0       0       1       0      0      1      0      0      0   \n",
       "1668722       0       0       0       1      0      0      0      0      0   \n",
       "1726767       0       0       0       1      0      0      0      0      0   \n",
       "427698        1       0       0       0      0      0      0      0      0   \n",
       "\n",
       "         UC_CO  UC_DL  UC_EV  UC_F9  UC_FL  UC_HA  UC_MQ  UC_NW  UC_OH  UC_OO  \\\n",
       "276255       0      0      0      0      0      0      0      0      0      0   \n",
       "1253643      1      0      0      0      0      0      0      0      0      0   \n",
       "607829       0      0      0      0      0      0      0      0      0      0   \n",
       "1059724      0      0      0      0      0      0      0      0      0      0   \n",
       "407269       0      0      0      0      0      0      0      0      0      0   \n",
       "...        ...    ...    ...    ...    ...    ...    ...    ...    ...    ...   \n",
       "1136053      0      0      0      0      0      0      0      0      0      1   \n",
       "1389963      0      0      0      0      0      0      0      0      0      0   \n",
       "1668722      0      0      0      0      0      0      0      0      0      0   \n",
       "1726767      1      0      0      0      0      0      0      0      0      0   \n",
       "427698       0      0      0      0      0      0      0      0      0      0   \n",
       "\n",
       "         UC_UA  UC_US  UC_WN  UC_XE  UC_YV  \n",
       "276255       0      1      0      0      0  \n",
       "1253643      0      0      0      0      0  \n",
       "607829       0      0      0      1      0  \n",
       "1059724      0      0      0      0      0  \n",
       "407269       0      0      1      0      0  \n",
       "...        ...    ...    ...    ...    ...  \n",
       "1136053      0      0      0      0      0  \n",
       "1389963      0      0      0      0      0  \n",
       "1668722      1      0      0      0      0  \n",
       "1726767      0      0      0      0      0  \n",
       "427698       0      0      0      0      1  \n",
       "\n",
       "[10000 rows x 24 columns]"
      ]
     },
     "execution_count": 26,
     "metadata": {},
     "output_type": "execute_result"
    }
   ],
   "source": [
    "# Es creen les variables dummies per a Trimestre i UniqueCarrier\n",
    "dummies = pd.get_dummies(dfs[['Trimestre','UniqueCarrier']], prefix=[None, 'UC'])\n",
    "dummies"
   ]
  },
  {
   "cell_type": "code",
   "execution_count": 27,
   "metadata": {},
   "outputs": [
    {
     "data": {
      "text/plain": [
       "276255     1\n",
       "1253643    0\n",
       "607829     1\n",
       "1059724    1\n",
       "407269     1\n",
       "1211467    1\n",
       "1157579    1\n",
       "1770029    0\n",
       "1085831    1\n",
       "1003736    1\n",
       "Name: AD_label, dtype: int32"
      ]
     },
     "execution_count": 27,
     "metadata": {},
     "output_type": "execute_result"
    }
   ],
   "source": [
    "# Es crea la variable objectiu 'AD_label', que val 1 si ArrDelay > 0 i 0 en cas contrari\n",
    "dfs['AD_label'] = np.where((dfs['ArrDelay'] > 0), 1, 0)\n",
    "dfs['AD_label'][:10]"
   ]
  },
  {
   "cell_type": "code",
   "execution_count": 28,
   "metadata": {},
   "outputs": [],
   "source": [
    "# S'elimina la variable ArrDelay\n",
    "dfs = dfs.drop('ArrDelay',axis=1)"
   ]
  },
  {
   "cell_type": "code",
   "execution_count": 29,
   "metadata": {
    "scrolled": true
   },
   "outputs": [
    {
     "data": {
      "text/html": [
       "<div>\n",
       "<style scoped>\n",
       "    .dataframe tbody tr th:only-of-type {\n",
       "        vertical-align: middle;\n",
       "    }\n",
       "\n",
       "    .dataframe tbody tr th {\n",
       "        vertical-align: top;\n",
       "    }\n",
       "\n",
       "    .dataframe thead th {\n",
       "        text-align: right;\n",
       "    }\n",
       "</style>\n",
       "<table border=\"1\" class=\"dataframe\">\n",
       "  <thead>\n",
       "    <tr style=\"text-align: right;\">\n",
       "      <th></th>\n",
       "      <th>DepDelay</th>\n",
       "      <th>TaxiIn</th>\n",
       "      <th>TaxiOut</th>\n",
       "      <th>VelMitja</th>\n",
       "      <th>AD_label</th>\n",
       "      <th>Trim_1</th>\n",
       "      <th>Trim_2</th>\n",
       "      <th>Trim_3</th>\n",
       "      <th>Trim_4</th>\n",
       "      <th>UC_9E</th>\n",
       "      <th>UC_AA</th>\n",
       "      <th>UC_AQ</th>\n",
       "      <th>UC_AS</th>\n",
       "      <th>UC_B6</th>\n",
       "      <th>UC_CO</th>\n",
       "      <th>UC_DL</th>\n",
       "      <th>UC_EV</th>\n",
       "      <th>UC_F9</th>\n",
       "      <th>UC_FL</th>\n",
       "      <th>UC_HA</th>\n",
       "      <th>UC_MQ</th>\n",
       "      <th>UC_NW</th>\n",
       "      <th>UC_OH</th>\n",
       "      <th>UC_OO</th>\n",
       "      <th>UC_UA</th>\n",
       "      <th>UC_US</th>\n",
       "      <th>UC_WN</th>\n",
       "      <th>UC_XE</th>\n",
       "      <th>UC_YV</th>\n",
       "    </tr>\n",
       "  </thead>\n",
       "  <tbody>\n",
       "    <tr>\n",
       "      <th>276255</th>\n",
       "      <td>31.0</td>\n",
       "      <td>7.0</td>\n",
       "      <td>12.0</td>\n",
       "      <td>445.71</td>\n",
       "      <td>1</td>\n",
       "      <td>1</td>\n",
       "      <td>0</td>\n",
       "      <td>0</td>\n",
       "      <td>0</td>\n",
       "      <td>0</td>\n",
       "      <td>0</td>\n",
       "      <td>0</td>\n",
       "      <td>0</td>\n",
       "      <td>0</td>\n",
       "      <td>0</td>\n",
       "      <td>0</td>\n",
       "      <td>0</td>\n",
       "      <td>0</td>\n",
       "      <td>0</td>\n",
       "      <td>0</td>\n",
       "      <td>0</td>\n",
       "      <td>0</td>\n",
       "      <td>0</td>\n",
       "      <td>0</td>\n",
       "      <td>0</td>\n",
       "      <td>1</td>\n",
       "      <td>0</td>\n",
       "      <td>0</td>\n",
       "      <td>0</td>\n",
       "    </tr>\n",
       "    <tr>\n",
       "      <th>1253643</th>\n",
       "      <td>6.0</td>\n",
       "      <td>8.0</td>\n",
       "      <td>24.0</td>\n",
       "      <td>445.13</td>\n",
       "      <td>0</td>\n",
       "      <td>0</td>\n",
       "      <td>0</td>\n",
       "      <td>1</td>\n",
       "      <td>0</td>\n",
       "      <td>0</td>\n",
       "      <td>0</td>\n",
       "      <td>0</td>\n",
       "      <td>0</td>\n",
       "      <td>0</td>\n",
       "      <td>1</td>\n",
       "      <td>0</td>\n",
       "      <td>0</td>\n",
       "      <td>0</td>\n",
       "      <td>0</td>\n",
       "      <td>0</td>\n",
       "      <td>0</td>\n",
       "      <td>0</td>\n",
       "      <td>0</td>\n",
       "      <td>0</td>\n",
       "      <td>0</td>\n",
       "      <td>0</td>\n",
       "      <td>0</td>\n",
       "      <td>0</td>\n",
       "      <td>0</td>\n",
       "    </tr>\n",
       "    <tr>\n",
       "      <th>607829</th>\n",
       "      <td>47.0</td>\n",
       "      <td>4.0</td>\n",
       "      <td>65.0</td>\n",
       "      <td>286.00</td>\n",
       "      <td>1</td>\n",
       "      <td>0</td>\n",
       "      <td>1</td>\n",
       "      <td>0</td>\n",
       "      <td>0</td>\n",
       "      <td>0</td>\n",
       "      <td>0</td>\n",
       "      <td>0</td>\n",
       "      <td>0</td>\n",
       "      <td>0</td>\n",
       "      <td>0</td>\n",
       "      <td>0</td>\n",
       "      <td>0</td>\n",
       "      <td>0</td>\n",
       "      <td>0</td>\n",
       "      <td>0</td>\n",
       "      <td>0</td>\n",
       "      <td>0</td>\n",
       "      <td>0</td>\n",
       "      <td>0</td>\n",
       "      <td>0</td>\n",
       "      <td>0</td>\n",
       "      <td>0</td>\n",
       "      <td>1</td>\n",
       "      <td>0</td>\n",
       "    </tr>\n",
       "    <tr>\n",
       "      <th>1059724</th>\n",
       "      <td>34.0</td>\n",
       "      <td>3.0</td>\n",
       "      <td>17.0</td>\n",
       "      <td>172.73</td>\n",
       "      <td>1</td>\n",
       "      <td>0</td>\n",
       "      <td>1</td>\n",
       "      <td>0</td>\n",
       "      <td>0</td>\n",
       "      <td>0</td>\n",
       "      <td>0</td>\n",
       "      <td>0</td>\n",
       "      <td>1</td>\n",
       "      <td>0</td>\n",
       "      <td>0</td>\n",
       "      <td>0</td>\n",
       "      <td>0</td>\n",
       "      <td>0</td>\n",
       "      <td>0</td>\n",
       "      <td>0</td>\n",
       "      <td>0</td>\n",
       "      <td>0</td>\n",
       "      <td>0</td>\n",
       "      <td>0</td>\n",
       "      <td>0</td>\n",
       "      <td>0</td>\n",
       "      <td>0</td>\n",
       "      <td>0</td>\n",
       "      <td>0</td>\n",
       "    </tr>\n",
       "    <tr>\n",
       "      <th>407269</th>\n",
       "      <td>21.0</td>\n",
       "      <td>3.0</td>\n",
       "      <td>12.0</td>\n",
       "      <td>330.83</td>\n",
       "      <td>1</td>\n",
       "      <td>1</td>\n",
       "      <td>0</td>\n",
       "      <td>0</td>\n",
       "      <td>0</td>\n",
       "      <td>0</td>\n",
       "      <td>0</td>\n",
       "      <td>0</td>\n",
       "      <td>0</td>\n",
       "      <td>0</td>\n",
       "      <td>0</td>\n",
       "      <td>0</td>\n",
       "      <td>0</td>\n",
       "      <td>0</td>\n",
       "      <td>0</td>\n",
       "      <td>0</td>\n",
       "      <td>0</td>\n",
       "      <td>0</td>\n",
       "      <td>0</td>\n",
       "      <td>0</td>\n",
       "      <td>0</td>\n",
       "      <td>0</td>\n",
       "      <td>1</td>\n",
       "      <td>0</td>\n",
       "      <td>0</td>\n",
       "    </tr>\n",
       "  </tbody>\n",
       "</table>\n",
       "</div>"
      ],
      "text/plain": [
       "         DepDelay  TaxiIn  TaxiOut  VelMitja  AD_label  Trim_1  Trim_2  \\\n",
       "276255       31.0     7.0     12.0    445.71         1       1       0   \n",
       "1253643       6.0     8.0     24.0    445.13         0       0       0   \n",
       "607829       47.0     4.0     65.0    286.00         1       0       1   \n",
       "1059724      34.0     3.0     17.0    172.73         1       0       1   \n",
       "407269       21.0     3.0     12.0    330.83         1       1       0   \n",
       "\n",
       "         Trim_3  Trim_4  UC_9E  UC_AA  UC_AQ  UC_AS  UC_B6  UC_CO  UC_DL  \\\n",
       "276255        0       0      0      0      0      0      0      0      0   \n",
       "1253643       1       0      0      0      0      0      0      1      0   \n",
       "607829        0       0      0      0      0      0      0      0      0   \n",
       "1059724       0       0      0      0      0      1      0      0      0   \n",
       "407269        0       0      0      0      0      0      0      0      0   \n",
       "\n",
       "         UC_EV  UC_F9  UC_FL  UC_HA  UC_MQ  UC_NW  UC_OH  UC_OO  UC_UA  UC_US  \\\n",
       "276255       0      0      0      0      0      0      0      0      0      1   \n",
       "1253643      0      0      0      0      0      0      0      0      0      0   \n",
       "607829       0      0      0      0      0      0      0      0      0      0   \n",
       "1059724      0      0      0      0      0      0      0      0      0      0   \n",
       "407269       0      0      0      0      0      0      0      0      0      0   \n",
       "\n",
       "         UC_WN  UC_XE  UC_YV  \n",
       "276255       0      0      0  \n",
       "1253643      0      0      0  \n",
       "607829       0      1      0  \n",
       "1059724      0      0      0  \n",
       "407269       1      0      0  "
      ]
     },
     "execution_count": 29,
     "metadata": {},
     "output_type": "execute_result"
    }
   ],
   "source": [
    "# Dataset final\n",
    "df_final = dfs.join(dummies)\n",
    "df_final = df_final.drop(['UniqueCarrier','Trimestre'],axis=1)\n",
    "df_final.head()"
   ]
  },
  {
   "cell_type": "markdown",
   "metadata": {},
   "source": [
    "<span style='color:blue;font-size:20px'> <b> Descriptiu del dataset final </b> </span>"
   ]
  },
  {
   "cell_type": "code",
   "execution_count": 30,
   "metadata": {},
   "outputs": [
    {
     "data": {
      "text/plain": [
       "(10000, 29)"
      ]
     },
     "execution_count": 30,
     "metadata": {},
     "output_type": "execute_result"
    }
   ],
   "source": [
    "# Dimensió del dataset final\n",
    "df_final.shape"
   ]
  },
  {
   "cell_type": "code",
   "execution_count": 31,
   "metadata": {},
   "outputs": [
    {
     "data": {
      "text/html": [
       "<div>\n",
       "<style scoped>\n",
       "    .dataframe tbody tr th:only-of-type {\n",
       "        vertical-align: middle;\n",
       "    }\n",
       "\n",
       "    .dataframe tbody tr th {\n",
       "        vertical-align: top;\n",
       "    }\n",
       "\n",
       "    .dataframe thead th {\n",
       "        text-align: right;\n",
       "    }\n",
       "</style>\n",
       "<table border=\"1\" class=\"dataframe\">\n",
       "  <thead>\n",
       "    <tr style=\"text-align: right;\">\n",
       "      <th></th>\n",
       "      <th>DepDelay</th>\n",
       "      <th>TaxiIn</th>\n",
       "      <th>TaxiOut</th>\n",
       "      <th>VelMitja</th>\n",
       "      <th>AD_label</th>\n",
       "      <th>Trim_1</th>\n",
       "      <th>Trim_2</th>\n",
       "      <th>Trim_3</th>\n",
       "      <th>Trim_4</th>\n",
       "      <th>UC_9E</th>\n",
       "      <th>UC_AA</th>\n",
       "      <th>UC_AQ</th>\n",
       "      <th>UC_AS</th>\n",
       "      <th>UC_B6</th>\n",
       "      <th>UC_CO</th>\n",
       "      <th>UC_DL</th>\n",
       "      <th>UC_EV</th>\n",
       "      <th>UC_F9</th>\n",
       "      <th>UC_FL</th>\n",
       "      <th>UC_HA</th>\n",
       "      <th>UC_MQ</th>\n",
       "      <th>UC_NW</th>\n",
       "      <th>UC_OH</th>\n",
       "      <th>UC_OO</th>\n",
       "      <th>UC_UA</th>\n",
       "      <th>UC_US</th>\n",
       "      <th>UC_WN</th>\n",
       "      <th>UC_XE</th>\n",
       "      <th>UC_YV</th>\n",
       "    </tr>\n",
       "  </thead>\n",
       "  <tbody>\n",
       "    <tr>\n",
       "      <th>count</th>\n",
       "      <td>10000.0</td>\n",
       "      <td>10000.0</td>\n",
       "      <td>10000.0</td>\n",
       "      <td>10000.0</td>\n",
       "      <td>10000.0</td>\n",
       "      <td>10000.0</td>\n",
       "      <td>10000.0</td>\n",
       "      <td>10000.0</td>\n",
       "      <td>10000.0</td>\n",
       "      <td>10000.0</td>\n",
       "      <td>10000.0</td>\n",
       "      <td>10000.0</td>\n",
       "      <td>10000.0</td>\n",
       "      <td>10000.0</td>\n",
       "      <td>10000.0</td>\n",
       "      <td>10000.0</td>\n",
       "      <td>10000.0</td>\n",
       "      <td>10000.0</td>\n",
       "      <td>10000.0</td>\n",
       "      <td>10000.0</td>\n",
       "      <td>10000.0</td>\n",
       "      <td>10000.0</td>\n",
       "      <td>10000.0</td>\n",
       "      <td>10000.0</td>\n",
       "      <td>10000.0</td>\n",
       "      <td>10000.0</td>\n",
       "      <td>10000.0</td>\n",
       "      <td>10000.0</td>\n",
       "      <td>10000.0</td>\n",
       "    </tr>\n",
       "    <tr>\n",
       "      <th>mean</th>\n",
       "      <td>44.0</td>\n",
       "      <td>7.0</td>\n",
       "      <td>18.0</td>\n",
       "      <td>396.0</td>\n",
       "      <td>1.0</td>\n",
       "      <td>0.0</td>\n",
       "      <td>0.0</td>\n",
       "      <td>0.0</td>\n",
       "      <td>0.0</td>\n",
       "      <td>0.0</td>\n",
       "      <td>0.0</td>\n",
       "      <td>0.0</td>\n",
       "      <td>0.0</td>\n",
       "      <td>0.0</td>\n",
       "      <td>0.0</td>\n",
       "      <td>0.0</td>\n",
       "      <td>0.0</td>\n",
       "      <td>0.0</td>\n",
       "      <td>0.0</td>\n",
       "      <td>0.0</td>\n",
       "      <td>0.0</td>\n",
       "      <td>0.0</td>\n",
       "      <td>0.0</td>\n",
       "      <td>0.0</td>\n",
       "      <td>0.0</td>\n",
       "      <td>0.0</td>\n",
       "      <td>0.0</td>\n",
       "      <td>0.0</td>\n",
       "      <td>0.0</td>\n",
       "    </tr>\n",
       "    <tr>\n",
       "      <th>std</th>\n",
       "      <td>54.0</td>\n",
       "      <td>6.0</td>\n",
       "      <td>15.0</td>\n",
       "      <td>77.0</td>\n",
       "      <td>0.0</td>\n",
       "      <td>0.0</td>\n",
       "      <td>0.0</td>\n",
       "      <td>0.0</td>\n",
       "      <td>0.0</td>\n",
       "      <td>0.0</td>\n",
       "      <td>0.0</td>\n",
       "      <td>0.0</td>\n",
       "      <td>0.0</td>\n",
       "      <td>0.0</td>\n",
       "      <td>0.0</td>\n",
       "      <td>0.0</td>\n",
       "      <td>0.0</td>\n",
       "      <td>0.0</td>\n",
       "      <td>0.0</td>\n",
       "      <td>0.0</td>\n",
       "      <td>0.0</td>\n",
       "      <td>0.0</td>\n",
       "      <td>0.0</td>\n",
       "      <td>0.0</td>\n",
       "      <td>0.0</td>\n",
       "      <td>0.0</td>\n",
       "      <td>0.0</td>\n",
       "      <td>0.0</td>\n",
       "      <td>0.0</td>\n",
       "    </tr>\n",
       "    <tr>\n",
       "      <th>min</th>\n",
       "      <td>6.0</td>\n",
       "      <td>0.0</td>\n",
       "      <td>1.0</td>\n",
       "      <td>85.0</td>\n",
       "      <td>0.0</td>\n",
       "      <td>0.0</td>\n",
       "      <td>0.0</td>\n",
       "      <td>0.0</td>\n",
       "      <td>0.0</td>\n",
       "      <td>0.0</td>\n",
       "      <td>0.0</td>\n",
       "      <td>0.0</td>\n",
       "      <td>0.0</td>\n",
       "      <td>0.0</td>\n",
       "      <td>0.0</td>\n",
       "      <td>0.0</td>\n",
       "      <td>0.0</td>\n",
       "      <td>0.0</td>\n",
       "      <td>0.0</td>\n",
       "      <td>0.0</td>\n",
       "      <td>0.0</td>\n",
       "      <td>0.0</td>\n",
       "      <td>0.0</td>\n",
       "      <td>0.0</td>\n",
       "      <td>0.0</td>\n",
       "      <td>0.0</td>\n",
       "      <td>0.0</td>\n",
       "      <td>0.0</td>\n",
       "      <td>0.0</td>\n",
       "    </tr>\n",
       "    <tr>\n",
       "      <th>25%</th>\n",
       "      <td>12.0</td>\n",
       "      <td>4.0</td>\n",
       "      <td>10.0</td>\n",
       "      <td>349.0</td>\n",
       "      <td>1.0</td>\n",
       "      <td>0.0</td>\n",
       "      <td>0.0</td>\n",
       "      <td>0.0</td>\n",
       "      <td>0.0</td>\n",
       "      <td>0.0</td>\n",
       "      <td>0.0</td>\n",
       "      <td>0.0</td>\n",
       "      <td>0.0</td>\n",
       "      <td>0.0</td>\n",
       "      <td>0.0</td>\n",
       "      <td>0.0</td>\n",
       "      <td>0.0</td>\n",
       "      <td>0.0</td>\n",
       "      <td>0.0</td>\n",
       "      <td>0.0</td>\n",
       "      <td>0.0</td>\n",
       "      <td>0.0</td>\n",
       "      <td>0.0</td>\n",
       "      <td>0.0</td>\n",
       "      <td>0.0</td>\n",
       "      <td>0.0</td>\n",
       "      <td>0.0</td>\n",
       "      <td>0.0</td>\n",
       "      <td>0.0</td>\n",
       "    </tr>\n",
       "    <tr>\n",
       "      <th>50%</th>\n",
       "      <td>24.0</td>\n",
       "      <td>6.0</td>\n",
       "      <td>14.0</td>\n",
       "      <td>404.0</td>\n",
       "      <td>1.0</td>\n",
       "      <td>0.0</td>\n",
       "      <td>0.0</td>\n",
       "      <td>0.0</td>\n",
       "      <td>0.0</td>\n",
       "      <td>0.0</td>\n",
       "      <td>0.0</td>\n",
       "      <td>0.0</td>\n",
       "      <td>0.0</td>\n",
       "      <td>0.0</td>\n",
       "      <td>0.0</td>\n",
       "      <td>0.0</td>\n",
       "      <td>0.0</td>\n",
       "      <td>0.0</td>\n",
       "      <td>0.0</td>\n",
       "      <td>0.0</td>\n",
       "      <td>0.0</td>\n",
       "      <td>0.0</td>\n",
       "      <td>0.0</td>\n",
       "      <td>0.0</td>\n",
       "      <td>0.0</td>\n",
       "      <td>0.0</td>\n",
       "      <td>0.0</td>\n",
       "      <td>0.0</td>\n",
       "      <td>0.0</td>\n",
       "    </tr>\n",
       "    <tr>\n",
       "      <th>75%</th>\n",
       "      <td>54.0</td>\n",
       "      <td>8.0</td>\n",
       "      <td>21.0</td>\n",
       "      <td>448.0</td>\n",
       "      <td>1.0</td>\n",
       "      <td>1.0</td>\n",
       "      <td>1.0</td>\n",
       "      <td>0.0</td>\n",
       "      <td>0.0</td>\n",
       "      <td>0.0</td>\n",
       "      <td>0.0</td>\n",
       "      <td>0.0</td>\n",
       "      <td>0.0</td>\n",
       "      <td>0.0</td>\n",
       "      <td>0.0</td>\n",
       "      <td>0.0</td>\n",
       "      <td>0.0</td>\n",
       "      <td>0.0</td>\n",
       "      <td>0.0</td>\n",
       "      <td>0.0</td>\n",
       "      <td>0.0</td>\n",
       "      <td>0.0</td>\n",
       "      <td>0.0</td>\n",
       "      <td>0.0</td>\n",
       "      <td>0.0</td>\n",
       "      <td>0.0</td>\n",
       "      <td>0.0</td>\n",
       "      <td>0.0</td>\n",
       "      <td>0.0</td>\n",
       "    </tr>\n",
       "    <tr>\n",
       "      <th>max</th>\n",
       "      <td>1090.0</td>\n",
       "      <td>240.0</td>\n",
       "      <td>269.0</td>\n",
       "      <td>1296.0</td>\n",
       "      <td>1.0</td>\n",
       "      <td>1.0</td>\n",
       "      <td>1.0</td>\n",
       "      <td>1.0</td>\n",
       "      <td>1.0</td>\n",
       "      <td>1.0</td>\n",
       "      <td>1.0</td>\n",
       "      <td>1.0</td>\n",
       "      <td>1.0</td>\n",
       "      <td>1.0</td>\n",
       "      <td>1.0</td>\n",
       "      <td>1.0</td>\n",
       "      <td>1.0</td>\n",
       "      <td>1.0</td>\n",
       "      <td>1.0</td>\n",
       "      <td>1.0</td>\n",
       "      <td>1.0</td>\n",
       "      <td>1.0</td>\n",
       "      <td>1.0</td>\n",
       "      <td>1.0</td>\n",
       "      <td>1.0</td>\n",
       "      <td>1.0</td>\n",
       "      <td>1.0</td>\n",
       "      <td>1.0</td>\n",
       "      <td>1.0</td>\n",
       "    </tr>\n",
       "  </tbody>\n",
       "</table>\n",
       "</div>"
      ],
      "text/plain": [
       "       DepDelay   TaxiIn  TaxiOut  VelMitja  AD_label   Trim_1   Trim_2  \\\n",
       "count   10000.0  10000.0  10000.0   10000.0   10000.0  10000.0  10000.0   \n",
       "mean       44.0      7.0     18.0     396.0       1.0      0.0      0.0   \n",
       "std        54.0      6.0     15.0      77.0       0.0      0.0      0.0   \n",
       "min         6.0      0.0      1.0      85.0       0.0      0.0      0.0   \n",
       "25%        12.0      4.0     10.0     349.0       1.0      0.0      0.0   \n",
       "50%        24.0      6.0     14.0     404.0       1.0      0.0      0.0   \n",
       "75%        54.0      8.0     21.0     448.0       1.0      1.0      1.0   \n",
       "max      1090.0    240.0    269.0    1296.0       1.0      1.0      1.0   \n",
       "\n",
       "        Trim_3   Trim_4    UC_9E    UC_AA    UC_AQ    UC_AS    UC_B6    UC_CO  \\\n",
       "count  10000.0  10000.0  10000.0  10000.0  10000.0  10000.0  10000.0  10000.0   \n",
       "mean       0.0      0.0      0.0      0.0      0.0      0.0      0.0      0.0   \n",
       "std        0.0      0.0      0.0      0.0      0.0      0.0      0.0      0.0   \n",
       "min        0.0      0.0      0.0      0.0      0.0      0.0      0.0      0.0   \n",
       "25%        0.0      0.0      0.0      0.0      0.0      0.0      0.0      0.0   \n",
       "50%        0.0      0.0      0.0      0.0      0.0      0.0      0.0      0.0   \n",
       "75%        0.0      0.0      0.0      0.0      0.0      0.0      0.0      0.0   \n",
       "max        1.0      1.0      1.0      1.0      1.0      1.0      1.0      1.0   \n",
       "\n",
       "         UC_DL    UC_EV    UC_F9    UC_FL    UC_HA    UC_MQ    UC_NW    UC_OH  \\\n",
       "count  10000.0  10000.0  10000.0  10000.0  10000.0  10000.0  10000.0  10000.0   \n",
       "mean       0.0      0.0      0.0      0.0      0.0      0.0      0.0      0.0   \n",
       "std        0.0      0.0      0.0      0.0      0.0      0.0      0.0      0.0   \n",
       "min        0.0      0.0      0.0      0.0      0.0      0.0      0.0      0.0   \n",
       "25%        0.0      0.0      0.0      0.0      0.0      0.0      0.0      0.0   \n",
       "50%        0.0      0.0      0.0      0.0      0.0      0.0      0.0      0.0   \n",
       "75%        0.0      0.0      0.0      0.0      0.0      0.0      0.0      0.0   \n",
       "max        1.0      1.0      1.0      1.0      1.0      1.0      1.0      1.0   \n",
       "\n",
       "         UC_OO    UC_UA    UC_US    UC_WN    UC_XE    UC_YV  \n",
       "count  10000.0  10000.0  10000.0  10000.0  10000.0  10000.0  \n",
       "mean       0.0      0.0      0.0      0.0      0.0      0.0  \n",
       "std        0.0      0.0      0.0      0.0      0.0      0.0  \n",
       "min        0.0      0.0      0.0      0.0      0.0      0.0  \n",
       "25%        0.0      0.0      0.0      0.0      0.0      0.0  \n",
       "50%        0.0      0.0      0.0      0.0      0.0      0.0  \n",
       "75%        0.0      0.0      0.0      0.0      0.0      0.0  \n",
       "max        1.0      1.0      1.0      1.0      1.0      1.0  "
      ]
     },
     "execution_count": 31,
     "metadata": {},
     "output_type": "execute_result"
    }
   ],
   "source": [
    "# Descriptiu de les dades\n",
    "df_final.describe().round()"
   ]
  },
  {
   "cell_type": "markdown",
   "metadata": {},
   "source": [
    "## Definició de la variable objectiu i dels predictors "
   ]
  },
  {
   "cell_type": "code",
   "execution_count": 32,
   "metadata": {},
   "outputs": [],
   "source": [
    "# Variable objectiu\n",
    "y = df_final['AD_label']\n",
    "# Predictors\n",
    "X = df_final.drop(['AD_label'], axis = 1)\n",
    "# LLista amb el nom dels predictors\n",
    "X_list = list(X.columns)"
   ]
  },
  {
   "cell_type": "markdown",
   "metadata": {},
   "source": [
    "## Mostra d'entrenament i mostra de prova"
   ]
  },
  {
   "cell_type": "code",
   "execution_count": 33,
   "metadata": {},
   "outputs": [
    {
     "name": "stdout",
     "output_type": "stream",
     "text": [
      "Training Features Shape: (8000, 28)\n",
      "Testing Features Shape: (2000, 28)\n"
     ]
    }
   ],
   "source": [
    "# train_test_split\n",
    "X_train, X_test, y_train, y_test = train_test_split(X, y, test_size = 0.20, random_state = 1234)\n",
    "print('Training Features Shape:', X_train.shape)\n",
    "print('Testing Features Shape:', X_test.shape)"
   ]
  },
  {
   "cell_type": "code",
   "execution_count": 34,
   "metadata": {},
   "outputs": [
    {
     "data": {
      "text/plain": [
       "0.896125"
      ]
     },
     "execution_count": 34,
     "metadata": {},
     "output_type": "execute_result"
    }
   ],
   "source": [
    "# Percentatge de positius en la mostra d'entrenament\n",
    "y_train.sum()/y_train.count()"
   ]
  },
  {
   "cell_type": "code",
   "execution_count": 35,
   "metadata": {},
   "outputs": [
    {
     "data": {
      "text/plain": [
       "0.894"
      ]
     },
     "execution_count": 35,
     "metadata": {},
     "output_type": "execute_result"
    }
   ],
   "source": [
    "# Percentatge de positius en la mostra de prova\n",
    "y_test.sum()/y_test.count()"
   ]
  },
  {
   "cell_type": "markdown",
   "metadata": {},
   "source": [
    "## Exercici 1\n",
    "__Crea almenys tres models de classificació diferents per intentar predir el millor possible l’endarreriment dels vols (ArrDelay) de DelayedFlights.csv. Considera si el vol ha arribat tard o no (ArrDelay > 0).__"
   ]
  },
  {
   "cell_type": "markdown",
   "metadata": {},
   "source": [
    "<span style='color:blue;font-size:18px'> <b> Model 1: Regressió Logística </b> </span>"
   ]
  },
  {
   "cell_type": "code",
   "execution_count": 36,
   "metadata": {},
   "outputs": [
    {
     "data": {
      "text/plain": [
       "LogisticRegression(max_iter=1000)"
      ]
     },
     "execution_count": 36,
     "metadata": {},
     "output_type": "execute_result"
    }
   ],
   "source": [
    "# Creació del model logístic\n",
    "logreg = LogisticRegression(max_iter=1000)\n",
    "\n",
    "# Ajust del model\n",
    "logreg.fit(X_train, y_train)"
   ]
  },
  {
   "cell_type": "code",
   "execution_count": 37,
   "metadata": {},
   "outputs": [],
   "source": [
    "# Prediccions amb la mostra d'entrenament\n",
    "pred_train_RL = logreg.predict(X_train)"
   ]
  },
  {
   "cell_type": "markdown",
   "metadata": {},
   "source": [
    "<span style='color:blue;font-size:18px'> <b> Model 2: Xarxes neuronals </b> </span>"
   ]
  },
  {
   "cell_type": "code",
   "execution_count": 38,
   "metadata": {},
   "outputs": [],
   "source": [
    "# Es normalitzen les variables numèriques\n",
    "norm = MinMaxScaler()\n",
    "norm.fit(X_train)\n",
    "\n",
    "# S'aplica la transformació\n",
    "X_train_2 = norm.transform(X_train)\n",
    "X_test_2 = norm.transform(X_test)"
   ]
  },
  {
   "cell_type": "code",
   "execution_count": 39,
   "metadata": {},
   "outputs": [
    {
     "data": {
      "text/plain": [
       "MLPClassifier(hidden_layer_sizes=(8, 8, 8), max_iter=500, random_state=1234)"
      ]
     },
     "execution_count": 39,
     "metadata": {},
     "output_type": "execute_result"
    }
   ],
   "source": [
    "# Construcció i ajust del model\n",
    "mlp = MLPClassifier(hidden_layer_sizes=(8,8,8), activation='relu', solver='adam', max_iter=500, random_state=1234)\n",
    "mlp.fit(X_train_2,y_train)"
   ]
  },
  {
   "cell_type": "code",
   "execution_count": 40,
   "metadata": {},
   "outputs": [],
   "source": [
    "# Prediccions\n",
    "pred_train_XN = mlp.predict(X_train_2)"
   ]
  },
  {
   "cell_type": "markdown",
   "metadata": {},
   "source": [
    "<span style='color:blue;font-size:18px'> <b> Model 3: Extreme Gradient Boosting  </b> </span>"
   ]
  },
  {
   "cell_type": "code",
   "execution_count": 41,
   "metadata": {},
   "outputs": [
    {
     "name": "stdout",
     "output_type": "stream",
     "text": [
      "[16:23:17] WARNING: C:/Users/Administrator/workspace/xgboost-win64_release_1.4.0/src/learner.cc:1095: Starting in XGBoost 1.3.0, the default evaluation metric used with the objective 'binary:logistic' was changed from 'error' to 'logloss'. Explicitly set eval_metric if you'd like to restore the old behavior.\n"
     ]
    },
    {
     "data": {
      "text/plain": [
       "XGBClassifier(base_score=0.5, booster='gbtree', colsample_bylevel=1,\n",
       "              colsample_bynode=1, colsample_bytree=1, gamma=0, gpu_id=-1,\n",
       "              importance_type='gain', interaction_constraints='',\n",
       "              learning_rate=0.300000012, max_delta_step=0, max_depth=6,\n",
       "              min_child_weight=1, missing=nan, monotone_constraints='()',\n",
       "              n_estimators=100, n_jobs=12, num_parallel_tree=1,\n",
       "              random_state=1234, reg_alpha=0, reg_lambda=1, scale_pos_weight=1,\n",
       "              subsample=1, tree_method='exact', use_label_encoder=False,\n",
       "              validate_parameters=1, verbosity=None)"
      ]
     },
     "execution_count": 41,
     "metadata": {},
     "output_type": "execute_result"
    }
   ],
   "source": [
    "# Creació i ajust del model\n",
    "xg_reg = xgb.XGBClassifier(objective ='binary:logistic',use_label_encoder=False,random_state=1234)\n",
    "xg_reg.fit(X_train,y_train)"
   ]
  },
  {
   "cell_type": "code",
   "execution_count": 42,
   "metadata": {},
   "outputs": [],
   "source": [
    "# Prediccions\n",
    "pred_train_XGB = xg_reg.predict(X_train)"
   ]
  },
  {
   "cell_type": "markdown",
   "metadata": {},
   "source": [
    "## Exercici 2\n",
    "__Compara els models de classificació utilitzant la precisió (accuracy), una matriu de confiança i d’altres mètriques més avançades.__"
   ]
  },
  {
   "cell_type": "markdown",
   "metadata": {},
   "source": [
    "<span style='color:blue;font-size:18px'> <b> Accuracy </b> </span>"
   ]
  },
  {
   "cell_type": "code",
   "execution_count": 43,
   "metadata": {},
   "outputs": [
    {
     "name": "stdout",
     "output_type": "stream",
     "text": [
      "0.917625\n"
     ]
    }
   ],
   "source": [
    "# Model 1: Regressió Logística\n",
    "print(metrics.accuracy_score(y_train, pred_train_RL))"
   ]
  },
  {
   "cell_type": "code",
   "execution_count": 44,
   "metadata": {},
   "outputs": [
    {
     "name": "stdout",
     "output_type": "stream",
     "text": [
      "0.9195\n"
     ]
    }
   ],
   "source": [
    "# Model 2: Xarxes neuronals\n",
    "print(metrics.accuracy_score(y_train, pred_train_XN))"
   ]
  },
  {
   "cell_type": "code",
   "execution_count": 45,
   "metadata": {},
   "outputs": [
    {
     "name": "stdout",
     "output_type": "stream",
     "text": [
      "0.9765\n"
     ]
    }
   ],
   "source": [
    "# Model 3: XGBoost\n",
    "print(metrics.accuracy_score(y_train, pred_train_XGB))"
   ]
  },
  {
   "cell_type": "markdown",
   "metadata": {},
   "source": [
    "<span style='color:blue;font-size:15px'> El model amb millor Accuracy és el model 3 XGBoost. </span>"
   ]
  },
  {
   "cell_type": "markdown",
   "metadata": {},
   "source": [
    "<span style='color:blue;font-size:18px'> <b> Matriz de Confusión </b> </span>"
   ]
  },
  {
   "cell_type": "code",
   "execution_count": 46,
   "metadata": {},
   "outputs": [
    {
     "name": "stdout",
     "output_type": "stream",
     "text": [
      "[[ 315  516]\n",
      " [ 143 7026]]\n"
     ]
    }
   ],
   "source": [
    "# Model 1: Regressió Logística\n",
    "confusion_RL = metrics.confusion_matrix(y_train, pred_train_RL)\n",
    "print(confusion_RL)"
   ]
  },
  {
   "cell_type": "code",
   "execution_count": 47,
   "metadata": {},
   "outputs": [
    {
     "name": "stdout",
     "output_type": "stream",
     "text": [
      "[[ 359  472]\n",
      " [ 172 6997]]\n"
     ]
    }
   ],
   "source": [
    "# Model 2: Xarxes neuronals\n",
    "confusion_XN = metrics.confusion_matrix(y_train, pred_train_XN)\n",
    "print(confusion_XN)"
   ]
  },
  {
   "cell_type": "code",
   "execution_count": 48,
   "metadata": {},
   "outputs": [
    {
     "name": "stdout",
     "output_type": "stream",
     "text": [
      "[[ 676  155]\n",
      " [  33 7136]]\n"
     ]
    }
   ],
   "source": [
    "# Model 1: XGBoost\n",
    "confusion_XGB = metrics.confusion_matrix(y_train, pred_train_XGB)\n",
    "print(confusion_XGB)"
   ]
  },
  {
   "cell_type": "markdown",
   "metadata": {},
   "source": [
    "<span style='color:blue;font-size:15px'> La Matriux del model 3 (XGBoost) indica que hi ha més TP i TN que en la resta de models </span>"
   ]
  },
  {
   "cell_type": "markdown",
   "metadata": {},
   "source": [
    "<span style='color:blue;font-size:18px'> <b> Puntuación F1 </b> </span>"
   ]
  },
  {
   "cell_type": "code",
   "execution_count": 49,
   "metadata": {},
   "outputs": [
    {
     "name": "stdout",
     "output_type": "stream",
     "text": [
      "0.9552035891509755\n"
     ]
    }
   ],
   "source": [
    "# Model 1: Regressió Logística\n",
    "f1_RL = metrics.f1_score(y_train, pred_train_RL)\n",
    "print(f1_RL)"
   ]
  },
  {
   "cell_type": "code",
   "execution_count": 50,
   "metadata": {},
   "outputs": [
    {
     "name": "stdout",
     "output_type": "stream",
     "text": [
      "0.956004918704741\n"
     ]
    }
   ],
   "source": [
    "# Model 2: Xarxes neuronals\n",
    "f1_XN = metrics.f1_score(y_train, pred_train_XN)\n",
    "print(f1_XN)"
   ]
  },
  {
   "cell_type": "code",
   "execution_count": 51,
   "metadata": {},
   "outputs": [
    {
     "name": "stdout",
     "output_type": "stream",
     "text": [
      "0.9869986168741356\n"
     ]
    }
   ],
   "source": [
    "# Model 3: XGBoost\n",
    "f1_XGB = metrics.f1_score(y_train, pred_train_XGB)\n",
    "print(f1_XGB)"
   ]
  },
  {
   "cell_type": "markdown",
   "metadata": {},
   "source": [
    "<span style='color:blue;font-size:15px'> El model amb millor F1 és el model 3 XGBoost. </span>"
   ]
  },
  {
   "cell_type": "markdown",
   "metadata": {},
   "source": [
    "<span style='color:blue;font-size:18px'> <b> Precisión </b> </span>"
   ]
  },
  {
   "cell_type": "code",
   "execution_count": 52,
   "metadata": {},
   "outputs": [
    {
     "name": "stdout",
     "output_type": "stream",
     "text": [
      "0.9315831344470963\n"
     ]
    }
   ],
   "source": [
    "# Model 1: Regressió Logística\n",
    "pres_RL = metrics.precision_score(y_train, pred_train_RL)\n",
    "print(pres_RL)"
   ]
  },
  {
   "cell_type": "code",
   "execution_count": 53,
   "metadata": {},
   "outputs": [
    {
     "name": "stdout",
     "output_type": "stream",
     "text": [
      "0.9368054625786585\n"
     ]
    }
   ],
   "source": [
    "# Model 2: Xarxes \n",
    "pres_XN = metrics.precision_score(y_train, pred_train_XN)\n",
    "print(pres_XN)"
   ]
  },
  {
   "cell_type": "code",
   "execution_count": 54,
   "metadata": {},
   "outputs": [
    {
     "name": "stdout",
     "output_type": "stream",
     "text": [
      "0.9787409134549444\n"
     ]
    }
   ],
   "source": [
    "# Model 3: XGBoost\n",
    "pres_XGB = metrics.precision_score(y_train, pred_train_XGB)\n",
    "print(pres_XGB)"
   ]
  },
  {
   "cell_type": "markdown",
   "metadata": {},
   "source": [
    "<span style='color:blue;font-size:15px'> El model amb millor presició és el model 3 XGBoost. </span>"
   ]
  },
  {
   "cell_type": "markdown",
   "metadata": {},
   "source": [
    "<span style='color:blue;font-size:18px'> <b> Área bajo la curva ROC </b> </span>"
   ]
  },
  {
   "cell_type": "code",
   "execution_count": 55,
   "metadata": {},
   "outputs": [
    {
     "name": "stdout",
     "output_type": "stream",
     "text": [
      "0.6795571889196013\n"
     ]
    }
   ],
   "source": [
    "# Model 1: Regressió Logística\n",
    "AUC_RL = metrics.roc_auc_score(y_train, pred_train_RL)\n",
    "print(AUC_RL)"
   ]
  },
  {
   "cell_type": "code",
   "execution_count": 56,
   "metadata": {},
   "outputs": [
    {
     "name": "stdout",
     "output_type": "stream",
     "text": [
      "0.704008719182857\n"
     ]
    }
   ],
   "source": [
    "# Model 2: Xarxes Neuronals\n",
    "AUC_XN = metrics.roc_auc_score(y_train, pred_train_XN)\n",
    "print(AUC_XN)"
   ]
  },
  {
   "cell_type": "code",
   "execution_count": 57,
   "metadata": {},
   "outputs": [
    {
     "name": "stdout",
     "output_type": "stream",
     "text": [
      "0.904437292601737\n"
     ]
    }
   ],
   "source": [
    "# Model 3: XGBoost\n",
    "AUC_XGB = metrics.roc_auc_score(y_train, pred_train_XGB)\n",
    "print(AUC_XGB)"
   ]
  },
  {
   "cell_type": "markdown",
   "metadata": {},
   "source": [
    "<span style='color:blue;font-size:15px'> El model amb millor AUC és el del model 3 XGBoost. </span>"
   ]
  },
  {
   "cell_type": "markdown",
   "metadata": {},
   "source": [
    "## Exercici 3\n",
    "__Entrena’ls utilitzant els diferents paràmetres que admeten.__"
   ]
  },
  {
   "cell_type": "markdown",
   "metadata": {},
   "source": [
    "<span style='color:blue;font-size:18px'> <b> Model 1: Regressió Logística </b> </span>"
   ]
  },
  {
   "cell_type": "code",
   "execution_count": 58,
   "metadata": {},
   "outputs": [
    {
     "name": "stdout",
     "output_type": "stream",
     "text": [
      "# Afinació dels hiper-paràmetres de f1\n",
      "\n",
      "Millors paràmetres trobats:\n",
      "\n",
      "{'C': 0.5, 'penalty': 'l2', 'solver': 'newton-cg'}\n",
      "\n",
      "Puntuacions de les combinacions d'hiper-paràmetres:\n",
      "\n",
      "0.954 (+/-0.011) for {'C': 0.5, 'penalty': 'l2', 'solver': 'newton-cg'}\n",
      "0.953 (+/-0.011) for {'C': 0.5, 'penalty': 'l2', 'solver': 'lbfgs'}\n",
      "0.952 (+/-0.008) for {'C': 0.5, 'penalty': 'l2', 'solver': 'sag'}\n",
      "0.952 (+/-0.009) for {'C': 0.5, 'penalty': 'l2', 'solver': 'saga'}\n",
      "0.953 (+/-0.011) for {'C': 0.5, 'penalty': 'none', 'solver': 'newton-cg'}\n",
      "0.954 (+/-0.012) for {'C': 0.5, 'penalty': 'none', 'solver': 'lbfgs'}\n",
      "0.952 (+/-0.008) for {'C': 0.5, 'penalty': 'none', 'solver': 'sag'}\n",
      "0.952 (+/-0.009) for {'C': 0.5, 'penalty': 'none', 'solver': 'saga'}\n",
      "0.954 (+/-0.011) for {'C': 1.0, 'penalty': 'l2', 'solver': 'newton-cg'}\n",
      "0.953 (+/-0.011) for {'C': 1.0, 'penalty': 'l2', 'solver': 'lbfgs'}\n",
      "0.952 (+/-0.008) for {'C': 1.0, 'penalty': 'l2', 'solver': 'sag'}\n",
      "0.952 (+/-0.009) for {'C': 1.0, 'penalty': 'l2', 'solver': 'saga'}\n",
      "0.953 (+/-0.011) for {'C': 1.0, 'penalty': 'none', 'solver': 'newton-cg'}\n",
      "0.954 (+/-0.012) for {'C': 1.0, 'penalty': 'none', 'solver': 'lbfgs'}\n",
      "0.952 (+/-0.008) for {'C': 1.0, 'penalty': 'none', 'solver': 'sag'}\n",
      "0.952 (+/-0.009) for {'C': 1.0, 'penalty': 'none', 'solver': 'saga'}\n",
      "0.954 (+/-0.011) for {'C': 1.5, 'penalty': 'l2', 'solver': 'newton-cg'}\n",
      "0.953 (+/-0.011) for {'C': 1.5, 'penalty': 'l2', 'solver': 'lbfgs'}\n",
      "0.952 (+/-0.008) for {'C': 1.5, 'penalty': 'l2', 'solver': 'sag'}\n",
      "0.952 (+/-0.009) for {'C': 1.5, 'penalty': 'l2', 'solver': 'saga'}\n",
      "0.953 (+/-0.011) for {'C': 1.5, 'penalty': 'none', 'solver': 'newton-cg'}\n",
      "0.954 (+/-0.012) for {'C': 1.5, 'penalty': 'none', 'solver': 'lbfgs'}\n",
      "0.952 (+/-0.008) for {'C': 1.5, 'penalty': 'none', 'solver': 'sag'}\n",
      "0.952 (+/-0.009) for {'C': 1.5, 'penalty': 'none', 'solver': 'saga'}\n"
     ]
    }
   ],
   "source": [
    "# Selecció de diversos paràmetres i valors\n",
    "tuned_parameters = {\n",
    "    'penalty': ['l2', 'none'],\n",
    "    'C': [0.5,1.0,1.5],\n",
    "    'solver': ['newton-cg', 'lbfgs', 'sag', 'saga'],\n",
    "}\n",
    "\n",
    "# Selecció de la mètrica a optimitzar\n",
    "#scores = ['precision', 'recall', 'f1']\n",
    "#scores = [ 'f1_weighted','f1_micro','f1_macro','accuracy','roc_auc']\n",
    "score='f1'\n",
    "\n",
    "print(\"# Afinació dels hiper-paràmetres de %s\" % score)\n",
    "print()\n",
    "clf_RL = GridSearchCV(estimator= LogisticRegression(max_iter=1000), param_grid=tuned_parameters, cv=10,scoring='%s' % score,n_jobs= -1)\n",
    "clf_RL.fit(X_train, y_train)\n",
    "    \n",
    "print(\"Millors paràmetres trobats:\")\n",
    "print()\n",
    "print(clf_RL.best_params_)\n",
    "print()\n",
    "print(\"Puntuacions de les combinacions d'hiper-paràmetres:\")\n",
    "print()\n",
    "means = clf_RL.cv_results_['mean_test_score']\n",
    "stds = clf_RL.cv_results_['std_test_score']\n",
    "for mean, std, params in zip(means, stds, clf_RL.cv_results_['params']):\n",
    "     print(\"%0.3f (+/-%0.03f) for %r\"\n",
    "            % (mean, std * 2, params))"
   ]
  },
  {
   "cell_type": "markdown",
   "metadata": {},
   "source": [
    "<span style='color:blue;font-size:15px'> La millor combinació de paràmetres del model de Regressió Logística que optimitza f1  és C=0.5, penalty=l2 i solver=newton-cg. </span>"
   ]
  },
  {
   "cell_type": "markdown",
   "metadata": {},
   "source": [
    "<span style='color:blue;font-size:18px'> <b> Model 2: Xarxes neuronals </b> </span>"
   ]
  },
  {
   "cell_type": "code",
   "execution_count": 59,
   "metadata": {},
   "outputs": [
    {
     "name": "stdout",
     "output_type": "stream",
     "text": [
      "# Afinació dels hiper-paràmetres de f1\n",
      "\n",
      "Millors paràmetres trobats:\n",
      "\n",
      "{'activation': 'tanh', 'hidden_layer_sizes': [8, 8], 'solver': 'adam'}\n",
      "\n",
      "Puntuacions de les combinacions d'hiper-paràmetres:\n",
      "\n",
      "0.953 (+/-0.011) for {'activation': 'identity', 'hidden_layer_sizes': [8, 8], 'solver': 'lbfgs'}\n",
      "0.945 (+/-0.001) for {'activation': 'identity', 'hidden_layer_sizes': [8, 8], 'solver': 'sgd'}\n",
      "0.953 (+/-0.010) for {'activation': 'identity', 'hidden_layer_sizes': [8, 8], 'solver': 'adam'}\n",
      "0.954 (+/-0.011) for {'activation': 'identity', 'hidden_layer_sizes': [8, 8, 8], 'solver': 'lbfgs'}\n",
      "0.945 (+/-0.000) for {'activation': 'identity', 'hidden_layer_sizes': [8, 8, 8], 'solver': 'sgd'}\n",
      "0.953 (+/-0.011) for {'activation': 'identity', 'hidden_layer_sizes': [8, 8, 8], 'solver': 'adam'}\n",
      "0.954 (+/-0.012) for {'activation': 'identity', 'hidden_layer_sizes': [8, 8, 8, 8], 'solver': 'lbfgs'}\n",
      "0.945 (+/-0.000) for {'activation': 'identity', 'hidden_layer_sizes': [8, 8, 8, 8], 'solver': 'sgd'}\n",
      "0.952 (+/-0.014) for {'activation': 'identity', 'hidden_layer_sizes': [8, 8, 8, 8], 'solver': 'adam'}\n",
      "0.951 (+/-0.011) for {'activation': 'logistic', 'hidden_layer_sizes': [8, 8], 'solver': 'lbfgs'}\n",
      "0.945 (+/-0.000) for {'activation': 'logistic', 'hidden_layer_sizes': [8, 8], 'solver': 'sgd'}\n",
      "0.945 (+/-0.000) for {'activation': 'logistic', 'hidden_layer_sizes': [8, 8], 'solver': 'adam'}\n",
      "0.945 (+/-0.000) for {'activation': 'logistic', 'hidden_layer_sizes': [8, 8, 8], 'solver': 'lbfgs'}\n",
      "0.945 (+/-0.000) for {'activation': 'logistic', 'hidden_layer_sizes': [8, 8, 8], 'solver': 'sgd'}\n",
      "0.945 (+/-0.000) for {'activation': 'logistic', 'hidden_layer_sizes': [8, 8, 8], 'solver': 'adam'}\n",
      "0.945 (+/-0.000) for {'activation': 'logistic', 'hidden_layer_sizes': [8, 8, 8, 8], 'solver': 'lbfgs'}\n",
      "0.945 (+/-0.000) for {'activation': 'logistic', 'hidden_layer_sizes': [8, 8, 8, 8], 'solver': 'sgd'}\n",
      "0.945 (+/-0.000) for {'activation': 'logistic', 'hidden_layer_sizes': [8, 8, 8, 8], 'solver': 'adam'}\n",
      "0.953 (+/-0.013) for {'activation': 'tanh', 'hidden_layer_sizes': [8, 8], 'solver': 'lbfgs'}\n",
      "0.945 (+/-0.000) for {'activation': 'tanh', 'hidden_layer_sizes': [8, 8], 'solver': 'sgd'}\n",
      "0.954 (+/-0.012) for {'activation': 'tanh', 'hidden_layer_sizes': [8, 8], 'solver': 'adam'}\n",
      "0.952 (+/-0.013) for {'activation': 'tanh', 'hidden_layer_sizes': [8, 8, 8], 'solver': 'lbfgs'}\n",
      "0.945 (+/-0.000) for {'activation': 'tanh', 'hidden_layer_sizes': [8, 8, 8], 'solver': 'sgd'}\n",
      "0.954 (+/-0.012) for {'activation': 'tanh', 'hidden_layer_sizes': [8, 8, 8], 'solver': 'adam'}\n",
      "0.953 (+/-0.012) for {'activation': 'tanh', 'hidden_layer_sizes': [8, 8, 8, 8], 'solver': 'lbfgs'}\n",
      "0.945 (+/-0.000) for {'activation': 'tanh', 'hidden_layer_sizes': [8, 8, 8, 8], 'solver': 'sgd'}\n",
      "0.953 (+/-0.014) for {'activation': 'tanh', 'hidden_layer_sizes': [8, 8, 8, 8], 'solver': 'adam'}\n",
      "0.952 (+/-0.012) for {'activation': 'relu', 'hidden_layer_sizes': [8, 8], 'solver': 'lbfgs'}\n",
      "0.945 (+/-0.000) for {'activation': 'relu', 'hidden_layer_sizes': [8, 8], 'solver': 'sgd'}\n",
      "0.953 (+/-0.011) for {'activation': 'relu', 'hidden_layer_sizes': [8, 8], 'solver': 'adam'}\n",
      "0.953 (+/-0.010) for {'activation': 'relu', 'hidden_layer_sizes': [8, 8, 8], 'solver': 'lbfgs'}\n",
      "0.945 (+/-0.000) for {'activation': 'relu', 'hidden_layer_sizes': [8, 8, 8], 'solver': 'sgd'}\n",
      "0.951 (+/-0.013) for {'activation': 'relu', 'hidden_layer_sizes': [8, 8, 8], 'solver': 'adam'}\n",
      "0.952 (+/-0.012) for {'activation': 'relu', 'hidden_layer_sizes': [8, 8, 8, 8], 'solver': 'lbfgs'}\n",
      "0.945 (+/-0.000) for {'activation': 'relu', 'hidden_layer_sizes': [8, 8, 8, 8], 'solver': 'sgd'}\n",
      "0.953 (+/-0.014) for {'activation': 'relu', 'hidden_layer_sizes': [8, 8, 8, 8], 'solver': 'adam'}\n"
     ]
    }
   ],
   "source": [
    "# Selecció de diversos paràmetres i valors\n",
    "tuned_parameters = {\n",
    "    'hidden_layer_sizes': [[8,8],[8,8,8],[8,8,8,8]],\n",
    "    'activation': ['identity', 'logistic', 'tanh', 'relu'],\n",
    "    'solver': ['lbfgs', 'sgd', 'adam'],\n",
    "}\n",
    "\n",
    "# Selecció de la mètrica a optimitzar\n",
    "#scores = ['precision', 'recall', 'f1']\n",
    "#scores = [ 'f1_weighted','f1_micro','f1_macro','accuracy','roc_auc']\n",
    "score='f1'\n",
    "\n",
    "print(\"# Afinació dels hiper-paràmetres de %s\" % score)\n",
    "print()\n",
    "clf_XN = GridSearchCV(estimator= MLPClassifier(max_iter=500,random_state=1234), param_grid=tuned_parameters, cv=10,scoring='%s' % score,n_jobs= -1)\n",
    "clf_XN.fit(X_train_2, y_train)\n",
    "    \n",
    "print(\"Millors paràmetres trobats:\")\n",
    "print()\n",
    "print(clf_XN.best_params_)\n",
    "print()\n",
    "print(\"Puntuacions de les combinacions d'hiper-paràmetres:\")\n",
    "print()\n",
    "means = clf_XN.cv_results_['mean_test_score']\n",
    "stds = clf_XN.cv_results_['std_test_score']\n",
    "for mean, std, params in zip(means, stds, clf_XN.cv_results_['params']):\n",
    "     print(\"%0.3f (+/-%0.03f) for %r\"\n",
    "            % (mean, std * 2, params))"
   ]
  },
  {
   "cell_type": "markdown",
   "metadata": {},
   "source": [
    "<span style='color:blue;font-size:15px'> La millor combinació de paràmetres del model de Xarxes Neuronals que optimitza f1 és activation=tanh, hidden_layer_size=[8,8] i solver=adam. </span>"
   ]
  },
  {
   "cell_type": "markdown",
   "metadata": {},
   "source": [
    "<span style='color:blue;font-size:18px'> <b> Model 3: Extreme Gradient Boosting  </b> </span>"
   ]
  },
  {
   "cell_type": "code",
   "execution_count": 60,
   "metadata": {},
   "outputs": [
    {
     "name": "stdout",
     "output_type": "stream",
     "text": [
      "# Afinació dels hiper-paràmetres de f1\n",
      "\n",
      "[16:30:44] WARNING: C:/Users/Administrator/workspace/xgboost-win64_release_1.4.0/src/learner.cc:1095: Starting in XGBoost 1.3.0, the default evaluation metric used with the objective 'binary:logistic' was changed from 'error' to 'logloss'. Explicitly set eval_metric if you'd like to restore the old behavior.\n",
      "Millors paràmetres trobats:\n",
      "\n",
      "{'booster': 'gblinear'}\n",
      "\n",
      "Puntuacions de les combinacions d'hiper-paràmetres:\n",
      "\n",
      "0.952 (+/-0.010) for {'booster': 'gbtree'}\n",
      "0.953 (+/-0.009) for {'booster': 'gblinear'}\n",
      "0.952 (+/-0.010) for {'booster': 'dart'}\n"
     ]
    }
   ],
   "source": [
    "# Selecció de diversos paràmetres i valors\n",
    "tuned_parameters = {\n",
    "    'booster': ['gbtree', 'gblinear', 'dart'],\n",
    "}\n",
    "\n",
    "# Selecció de la mètrica a optimitzar\n",
    "#scores = ['precision', 'recall', 'f1']\n",
    "#scores = [ 'f1_weighted','f1_micro','f1_macro','accuracy','roc_auc']\n",
    "score='f1'\n",
    "\n",
    "print(\"# Afinació dels hiper-paràmetres de %s\" % score)\n",
    "print()\n",
    "clf_XGB = GridSearchCV(estimator= xgb.XGBClassifier(objective ='binary:logistic',use_label_encoder=False,random_state=1234), param_grid=tuned_parameters, cv=10,scoring='%s' % score,n_jobs= -1)\n",
    "clf_XGB.fit(X_train, y_train)\n",
    "    \n",
    "print(\"Millors paràmetres trobats:\")\n",
    "print()\n",
    "print(clf_XGB.best_params_)\n",
    "print()\n",
    "print(\"Puntuacions de les combinacions d'hiper-paràmetres:\")\n",
    "print()\n",
    "means = clf_XGB.cv_results_['mean_test_score']\n",
    "stds = clf_XGB.cv_results_['std_test_score']\n",
    "for mean, std, params in zip(means, stds, clf_XGB.cv_results_['params']):\n",
    "     print(\"%0.3f (+/-%0.03f) for %r\"\n",
    "            % (mean, std * 2, params))"
   ]
  },
  {
   "cell_type": "markdown",
   "metadata": {},
   "source": [
    "<span style='color:blue;font-size:15px'> La millor combinació de paràmetres del model de XGBoost que optimitza f1 és booster=gblinear. </span>"
   ]
  },
  {
   "cell_type": "markdown",
   "metadata": {},
   "source": [
    "## Exercici 4\n",
    "__Compara el seu rendiment utilitzant l’aproximació traint/test o utilitzant totes les dades (validació interna)__"
   ]
  },
  {
   "cell_type": "markdown",
   "metadata": {},
   "source": [
    "<span style='color:blue;font-size:18px'> <b> Model 1: Regressió Logística </b> </span>"
   ]
  },
  {
   "cell_type": "code",
   "execution_count": 61,
   "metadata": {},
   "outputs": [
    {
     "name": "stdout",
     "output_type": "stream",
     "text": [
      "              precision    recall  f1-score   support\n",
      "\n",
      "           0       0.68      0.35      0.47       212\n",
      "           1       0.93      0.98      0.95      1788\n",
      "\n",
      "    accuracy                           0.91      2000\n",
      "   macro avg       0.80      0.67      0.71      2000\n",
      "weighted avg       0.90      0.91      0.90      2000\n",
      "\n",
      "Accuracy score:  0.914\n",
      "AUC:  0.667099320417036\n"
     ]
    }
   ],
   "source": [
    "pred_test_RL = clf_RL.predict(X_test)\n",
    "print(classification_report(y_test, pred_test_RL))\n",
    "print(\"Accuracy score: \", metrics.accuracy_score(y_test, pred_test_RL))\n",
    "print(\"AUC: \", metrics.roc_auc_score(y_test, pred_test_RL))"
   ]
  },
  {
   "cell_type": "markdown",
   "metadata": {},
   "source": [
    "<span style='color:blue;font-size:18px'> <b> Model 2: Xarxes Neuronals </b> </span>"
   ]
  },
  {
   "cell_type": "code",
   "execution_count": 62,
   "metadata": {},
   "outputs": [
    {
     "name": "stdout",
     "output_type": "stream",
     "text": [
      "              precision    recall  f1-score   support\n",
      "\n",
      "           0       0.67      0.37      0.48       212\n",
      "           1       0.93      0.98      0.95      1788\n",
      "\n",
      "    accuracy                           0.91      2000\n",
      "   macro avg       0.80      0.67      0.71      2000\n",
      "weighted avg       0.90      0.91      0.90      2000\n",
      "\n",
      "Accuracy score:  0.914\n",
      "AUC:  0.6733358659406525\n"
     ]
    }
   ],
   "source": [
    "pred_test_XN = clf_XN.predict(X_test_2)\n",
    "print(classification_report(y_test, pred_test_XN))\n",
    "print(\"Accuracy score: \", metrics.accuracy_score(y_test, pred_test_XN))\n",
    "print(\"AUC: \", metrics.roc_auc_score(y_test, pred_test_XN))"
   ]
  },
  {
   "cell_type": "markdown",
   "metadata": {},
   "source": [
    "<span style='color:blue;font-size:18px'> <b> Model 3: XGBoost </b> </span>"
   ]
  },
  {
   "cell_type": "code",
   "execution_count": 63,
   "metadata": {},
   "outputs": [
    {
     "name": "stdout",
     "output_type": "stream",
     "text": [
      "              precision    recall  f1-score   support\n",
      "\n",
      "           0       0.68      0.29      0.41       212\n",
      "           1       0.92      0.98      0.95      1788\n",
      "\n",
      "    accuracy                           0.91      2000\n",
      "   macro avg       0.80      0.64      0.68      2000\n",
      "weighted avg       0.90      0.91      0.89      2000\n",
      "\n",
      "Accuracy score:  0.9105\n",
      "AUC:  0.6381167954075387\n"
     ]
    }
   ],
   "source": [
    "pred_test_XGB = clf_XGB.predict(X_test)\n",
    "print(classification_report(y_test, pred_test_XGB))\n",
    "print(\"Accuracy score: \", metrics.accuracy_score(y_test, pred_test_XGB))\n",
    "print(\"AUC: \", metrics.roc_auc_score(y_test, pred_test_XGB))"
   ]
  },
  {
   "cell_type": "markdown",
   "metadata": {},
   "source": [
    "<span style='color:blue;font-size:15px'> \n",
    "    <p> El model amb més Accuracy és el de Regressió Logística i Xarxes neuronals </p> \n",
    "    <p> El model amb més AUC és el de Xarxes neuronals </p>\n",
    "</span>"
   ]
  },
  {
   "cell_type": "markdown",
   "metadata": {},
   "source": [
    "## Exercici 5\n",
    "__Realitza algun procés d’enginyeria de variables per millorar-ne la predicció.__"
   ]
  },
  {
   "cell_type": "markdown",
   "metadata": {},
   "source": [
    "<span style='color:blue;font-size:15px'> <b> Aquest exercici s'ha realitzat a l'apartat \"Creació de variables\", abans de modelitzar. </b> </span>"
   ]
  },
  {
   "cell_type": "markdown",
   "metadata": {},
   "source": [
    "<span style='color:blue;font-size:15px'> S'ha creat una nova variable 'VelMitja' que és una combinació de 'Distance' i 'AirTime' (dues variables molt correlaciones). </span>"
   ]
  },
  {
   "cell_type": "markdown",
   "metadata": {},
   "source": [
    "<span style='color:blue;font-size:15px'> S'ha creat la variable 'Trimestre', que agrupa els mesos del any </span>"
   ]
  },
  {
   "cell_type": "markdown",
   "metadata": {},
   "source": [
    "<span style='color:blue;font-size:15px'> S'han creat les variables dummy per 'Trimestre' i 'UniqueCarrier' </span>"
   ]
  },
  {
   "cell_type": "markdown",
   "metadata": {},
   "source": [
    "<span style='color:blue;font-size:15px'> Per a Xarxes Neuronals s'ha aplicat una escala MinMax a les variables: (Valor - Mínim) / (Máxim - Mínim), que transforma els valors en nombres entre 0 i 1 aproximadament. Aquesta transformació millora el rendiment del model </span>"
   ]
  },
  {
   "cell_type": "code",
   "execution_count": 64,
   "metadata": {},
   "outputs": [
    {
     "data": {
      "text/plain": [
       "array([[0.03030303, 0.0375    , 0.06343284, ..., 0.        , 0.        ,\n",
       "        0.        ],\n",
       "       [0.15656566, 0.05416667, 0.03731343, ..., 0.        , 0.        ,\n",
       "        0.        ],\n",
       "       [0.01515152, 0.03333333, 0.02985075, ..., 1.        , 0.        ,\n",
       "        0.        ],\n",
       "       ...,\n",
       "       [0.01767677, 0.02916667, 0.05223881, ..., 0.        , 0.        ,\n",
       "        0.        ],\n",
       "       [0.02020202, 0.00833333, 0.02238806, ..., 1.        , 0.        ,\n",
       "        0.        ],\n",
       "       [0.01767677, 0.025     , 0.07462687, ..., 1.        , 0.        ,\n",
       "        0.        ]])"
      ]
     },
     "execution_count": 64,
     "metadata": {},
     "output_type": "execute_result"
    }
   ],
   "source": [
    "X_train_2"
   ]
  },
  {
   "cell_type": "markdown",
   "metadata": {},
   "source": [
    "## Exercici 6\n",
    "__No utilitzis la variable DepDelay a l’hora de fer prediccions.__"
   ]
  },
  {
   "cell_type": "code",
   "execution_count": 65,
   "metadata": {},
   "outputs": [],
   "source": [
    "# S'elimina la variable DepDelay de les mostres d'entrenament i prova\n",
    "X_train_DD = X_train.drop('DepDelay',axis=1)\n",
    "X_test_DD = X_test.drop('DepDelay',axis=1)"
   ]
  },
  {
   "cell_type": "markdown",
   "metadata": {},
   "source": [
    "<span style='color:blue;font-size:18px'> <b> Model 1: Regressió Logística </b> </span>"
   ]
  },
  {
   "cell_type": "code",
   "execution_count": 66,
   "metadata": {},
   "outputs": [
    {
     "name": "stdout",
     "output_type": "stream",
     "text": [
      "# Afinació dels hiper-paràmetres de f1\n",
      "\n",
      "Millors paràmetres trobats:\n",
      "\n",
      "{'C': 1.0, 'penalty': 'l2', 'solver': 'lbfgs'}\n",
      "\n",
      "Puntuacions de les combinacions d'hiper-paràmetres:\n",
      "\n",
      "0.945 (+/-0.003) for {'C': 0.5, 'penalty': 'l2', 'solver': 'newton-cg'}\n",
      "0.945 (+/-0.003) for {'C': 0.5, 'penalty': 'l2', 'solver': 'lbfgs'}\n",
      "0.945 (+/-0.000) for {'C': 0.5, 'penalty': 'l2', 'solver': 'sag'}\n",
      "0.945 (+/-0.000) for {'C': 0.5, 'penalty': 'l2', 'solver': 'saga'}\n",
      "0.945 (+/-0.003) for {'C': 0.5, 'penalty': 'none', 'solver': 'newton-cg'}\n",
      "0.945 (+/-0.003) for {'C': 0.5, 'penalty': 'none', 'solver': 'lbfgs'}\n",
      "0.945 (+/-0.000) for {'C': 0.5, 'penalty': 'none', 'solver': 'sag'}\n",
      "0.945 (+/-0.000) for {'C': 0.5, 'penalty': 'none', 'solver': 'saga'}\n",
      "0.945 (+/-0.003) for {'C': 1.0, 'penalty': 'l2', 'solver': 'newton-cg'}\n",
      "0.945 (+/-0.003) for {'C': 1.0, 'penalty': 'l2', 'solver': 'lbfgs'}\n",
      "0.945 (+/-0.000) for {'C': 1.0, 'penalty': 'l2', 'solver': 'sag'}\n",
      "0.945 (+/-0.000) for {'C': 1.0, 'penalty': 'l2', 'solver': 'saga'}\n",
      "0.945 (+/-0.003) for {'C': 1.0, 'penalty': 'none', 'solver': 'newton-cg'}\n",
      "0.945 (+/-0.003) for {'C': 1.0, 'penalty': 'none', 'solver': 'lbfgs'}\n",
      "0.945 (+/-0.000) for {'C': 1.0, 'penalty': 'none', 'solver': 'sag'}\n",
      "0.945 (+/-0.000) for {'C': 1.0, 'penalty': 'none', 'solver': 'saga'}\n",
      "0.945 (+/-0.003) for {'C': 1.5, 'penalty': 'l2', 'solver': 'newton-cg'}\n",
      "0.945 (+/-0.003) for {'C': 1.5, 'penalty': 'l2', 'solver': 'lbfgs'}\n",
      "0.945 (+/-0.000) for {'C': 1.5, 'penalty': 'l2', 'solver': 'sag'}\n",
      "0.945 (+/-0.000) for {'C': 1.5, 'penalty': 'l2', 'solver': 'saga'}\n",
      "0.945 (+/-0.003) for {'C': 1.5, 'penalty': 'none', 'solver': 'newton-cg'}\n",
      "0.945 (+/-0.003) for {'C': 1.5, 'penalty': 'none', 'solver': 'lbfgs'}\n",
      "0.945 (+/-0.000) for {'C': 1.5, 'penalty': 'none', 'solver': 'sag'}\n",
      "0.945 (+/-0.000) for {'C': 1.5, 'penalty': 'none', 'solver': 'saga'}\n"
     ]
    }
   ],
   "source": [
    "# Selecció de diversos paràmetres i valors\n",
    "tuned_parameters = {\n",
    "    'penalty': ['l2', 'none'],\n",
    "    'C': [0.5,1.0,1.5],\n",
    "    'solver': ['newton-cg', 'lbfgs', 'sag', 'saga'],\n",
    "}\n",
    "\n",
    "# Selecció de la mètrica a optimitzar\n",
    "#scores = ['precision', 'recall', 'f1']\n",
    "#scores = [ 'f1_weighted','f1_micro','f1_macro','accuracy','roc_auc']\n",
    "score='f1'\n",
    "\n",
    "print(\"# Afinació dels hiper-paràmetres de %s\" % score)\n",
    "print()\n",
    "clf_RL_DD = GridSearchCV(estimator= LogisticRegression(max_iter=1000), param_grid=tuned_parameters, cv=10,scoring='%s' % score,n_jobs= -1)\n",
    "clf_RL_DD.fit(X_train_DD, y_train)\n",
    "    \n",
    "print(\"Millors paràmetres trobats:\")\n",
    "print()\n",
    "print(clf_RL_DD.best_params_)\n",
    "print()\n",
    "print(\"Puntuacions de les combinacions d'hiper-paràmetres:\")\n",
    "print()\n",
    "means = clf_RL_DD.cv_results_['mean_test_score']\n",
    "stds = clf_RL_DD.cv_results_['std_test_score']\n",
    "for mean, std, params in zip(means, stds, clf_RL_DD.cv_results_['params']):\n",
    "     print(\"%0.3f (+/-%0.03f) for %r\"\n",
    "            % (mean, std * 2, params))"
   ]
  },
  {
   "cell_type": "code",
   "execution_count": 67,
   "metadata": {},
   "outputs": [
    {
     "name": "stdout",
     "output_type": "stream",
     "text": [
      "              precision    recall  f1-score   support\n",
      "\n",
      "           0       0.80      0.02      0.04       212\n",
      "           1       0.90      1.00      0.94      1788\n",
      "\n",
      "    accuracy                           0.90      2000\n",
      "   macro avg       0.85      0.51      0.49      2000\n",
      "weighted avg       0.89      0.90      0.85      2000\n",
      "\n",
      "Accuracy score:  0.8955\n",
      "AUC:  0.5091543202059854\n"
     ]
    }
   ],
   "source": [
    "# Rendiment del model 1\n",
    "pred_test_RL_DD = clf_RL_DD.predict(X_test_DD)\n",
    "print(classification_report(y_test, pred_test_RL_DD))\n",
    "print(\"Accuracy score: \", metrics.accuracy_score(y_test, pred_test_RL_DD))\n",
    "print(\"AUC: \", metrics.roc_auc_score(y_test, pred_test_RL_DD))"
   ]
  },
  {
   "cell_type": "markdown",
   "metadata": {},
   "source": [
    "<span style='color:blue;font-size:18px'> <b> Model 2: Xarxes Neuronals </b> </span>"
   ]
  },
  {
   "cell_type": "code",
   "execution_count": 68,
   "metadata": {},
   "outputs": [],
   "source": [
    "# S'elimina la variable DepDelay de la mostra d'entrenament i de prova\n",
    "X_train_2_DD = np.delete(X_train_2,0,axis=1)\n",
    "X_test_2_DD = np.delete(X_test_2,0,axis=1)"
   ]
  },
  {
   "cell_type": "code",
   "execution_count": 69,
   "metadata": {},
   "outputs": [
    {
     "name": "stdout",
     "output_type": "stream",
     "text": [
      "# Afinació dels hiper-paràmetres de f1\n",
      "\n",
      "Millors paràmetres trobats:\n",
      "\n",
      "{'activation': 'logistic', 'hidden_layer_sizes': [8, 8], 'solver': 'adam'}\n",
      "\n",
      "Puntuacions de les combinacions d'hiper-paràmetres:\n",
      "\n",
      "0.945 (+/-0.003) for {'activation': 'identity', 'hidden_layer_sizes': [8, 8], 'solver': 'lbfgs'}\n",
      "0.945 (+/-0.000) for {'activation': 'identity', 'hidden_layer_sizes': [8, 8], 'solver': 'sgd'}\n",
      "0.945 (+/-0.003) for {'activation': 'identity', 'hidden_layer_sizes': [8, 8], 'solver': 'adam'}\n",
      "0.945 (+/-0.003) for {'activation': 'identity', 'hidden_layer_sizes': [8, 8, 8], 'solver': 'lbfgs'}\n",
      "0.945 (+/-0.000) for {'activation': 'identity', 'hidden_layer_sizes': [8, 8, 8], 'solver': 'sgd'}\n",
      "0.945 (+/-0.002) for {'activation': 'identity', 'hidden_layer_sizes': [8, 8, 8], 'solver': 'adam'}\n",
      "0.945 (+/-0.003) for {'activation': 'identity', 'hidden_layer_sizes': [8, 8, 8, 8], 'solver': 'lbfgs'}\n",
      "0.945 (+/-0.000) for {'activation': 'identity', 'hidden_layer_sizes': [8, 8, 8, 8], 'solver': 'sgd'}\n",
      "0.945 (+/-0.003) for {'activation': 'identity', 'hidden_layer_sizes': [8, 8, 8, 8], 'solver': 'adam'}\n",
      "0.944 (+/-0.004) for {'activation': 'logistic', 'hidden_layer_sizes': [8, 8], 'solver': 'lbfgs'}\n",
      "0.945 (+/-0.000) for {'activation': 'logistic', 'hidden_layer_sizes': [8, 8], 'solver': 'sgd'}\n",
      "0.945 (+/-0.001) for {'activation': 'logistic', 'hidden_layer_sizes': [8, 8], 'solver': 'adam'}\n",
      "0.945 (+/-0.000) for {'activation': 'logistic', 'hidden_layer_sizes': [8, 8, 8], 'solver': 'lbfgs'}\n",
      "0.945 (+/-0.000) for {'activation': 'logistic', 'hidden_layer_sizes': [8, 8, 8], 'solver': 'sgd'}\n",
      "0.945 (+/-0.000) for {'activation': 'logistic', 'hidden_layer_sizes': [8, 8, 8], 'solver': 'adam'}\n",
      "0.945 (+/-0.000) for {'activation': 'logistic', 'hidden_layer_sizes': [8, 8, 8, 8], 'solver': 'lbfgs'}\n",
      "0.945 (+/-0.000) for {'activation': 'logistic', 'hidden_layer_sizes': [8, 8, 8, 8], 'solver': 'sgd'}\n",
      "0.945 (+/-0.000) for {'activation': 'logistic', 'hidden_layer_sizes': [8, 8, 8, 8], 'solver': 'adam'}\n",
      "0.943 (+/-0.004) for {'activation': 'tanh', 'hidden_layer_sizes': [8, 8], 'solver': 'lbfgs'}\n",
      "0.945 (+/-0.000) for {'activation': 'tanh', 'hidden_layer_sizes': [8, 8], 'solver': 'sgd'}\n",
      "0.945 (+/-0.004) for {'activation': 'tanh', 'hidden_layer_sizes': [8, 8], 'solver': 'adam'}\n",
      "0.942 (+/-0.006) for {'activation': 'tanh', 'hidden_layer_sizes': [8, 8, 8], 'solver': 'lbfgs'}\n",
      "0.945 (+/-0.000) for {'activation': 'tanh', 'hidden_layer_sizes': [8, 8, 8], 'solver': 'sgd'}\n",
      "0.945 (+/-0.004) for {'activation': 'tanh', 'hidden_layer_sizes': [8, 8, 8], 'solver': 'adam'}\n",
      "0.942 (+/-0.003) for {'activation': 'tanh', 'hidden_layer_sizes': [8, 8, 8, 8], 'solver': 'lbfgs'}\n",
      "0.945 (+/-0.000) for {'activation': 'tanh', 'hidden_layer_sizes': [8, 8, 8, 8], 'solver': 'sgd'}\n",
      "0.945 (+/-0.004) for {'activation': 'tanh', 'hidden_layer_sizes': [8, 8, 8, 8], 'solver': 'adam'}\n",
      "0.944 (+/-0.003) for {'activation': 'relu', 'hidden_layer_sizes': [8, 8], 'solver': 'lbfgs'}\n",
      "0.945 (+/-0.000) for {'activation': 'relu', 'hidden_layer_sizes': [8, 8], 'solver': 'sgd'}\n",
      "0.945 (+/-0.002) for {'activation': 'relu', 'hidden_layer_sizes': [8, 8], 'solver': 'adam'}\n",
      "0.944 (+/-0.004) for {'activation': 'relu', 'hidden_layer_sizes': [8, 8, 8], 'solver': 'lbfgs'}\n",
      "0.945 (+/-0.000) for {'activation': 'relu', 'hidden_layer_sizes': [8, 8, 8], 'solver': 'sgd'}\n",
      "0.945 (+/-0.001) for {'activation': 'relu', 'hidden_layer_sizes': [8, 8, 8], 'solver': 'adam'}\n",
      "0.943 (+/-0.005) for {'activation': 'relu', 'hidden_layer_sizes': [8, 8, 8, 8], 'solver': 'lbfgs'}\n",
      "0.945 (+/-0.000) for {'activation': 'relu', 'hidden_layer_sizes': [8, 8, 8, 8], 'solver': 'sgd'}\n",
      "0.945 (+/-0.001) for {'activation': 'relu', 'hidden_layer_sizes': [8, 8, 8, 8], 'solver': 'adam'}\n"
     ]
    }
   ],
   "source": [
    "# Selecció de diversos paràmetres i valors\n",
    "tuned_parameters = {\n",
    "    'hidden_layer_sizes': [[8,8],[8,8,8],[8,8,8,8]],\n",
    "    'activation': ['identity', 'logistic', 'tanh', 'relu'],\n",
    "    'solver': ['lbfgs', 'sgd', 'adam'],\n",
    "}\n",
    "\n",
    "# Selecció de la mètrica a optimitzar\n",
    "#scores = ['precision', 'recall', 'f1']\n",
    "#scores = [ 'f1_weighted','f1_micro','f1_macro','accuracy','roc_auc']\n",
    "score='f1'\n",
    "\n",
    "print(\"# Afinació dels hiper-paràmetres de %s\" % score)\n",
    "print()\n",
    "clf_XN_DD = GridSearchCV(estimator= MLPClassifier(max_iter=500,random_state=1234), param_grid=tuned_parameters, cv=10,scoring='%s' % score,n_jobs= -1)\n",
    "clf_XN_DD.fit(X_train_2_DD, y_train)\n",
    "    \n",
    "print(\"Millors paràmetres trobats:\")\n",
    "print()\n",
    "print(clf_XN_DD.best_params_)\n",
    "print()\n",
    "print(\"Puntuacions de les combinacions d'hiper-paràmetres:\")\n",
    "print()\n",
    "means = clf_XN_DD.cv_results_['mean_test_score']\n",
    "stds = clf_XN_DD.cv_results_['std_test_score']\n",
    "for mean, std, params in zip(means, stds, clf_XN_DD.cv_results_['params']):\n",
    "     print(\"%0.3f (+/-%0.03f) for %r\"\n",
    "            % (mean, std * 2, params))"
   ]
  },
  {
   "cell_type": "code",
   "execution_count": 70,
   "metadata": {},
   "outputs": [
    {
     "name": "stdout",
     "output_type": "stream",
     "text": [
      "              precision    recall  f1-score   support\n",
      "\n",
      "           0       0.00      0.00      0.00       212\n",
      "           1       0.89      1.00      0.94      1788\n",
      "\n",
      "    accuracy                           0.89      2000\n",
      "   macro avg       0.45      0.50      0.47      2000\n",
      "weighted avg       0.80      0.89      0.84      2000\n",
      "\n",
      "Accuracy score:  0.894\n",
      "AUC:  0.5\n"
     ]
    },
    {
     "name": "stderr",
     "output_type": "stream",
     "text": [
      "C:\\Users\\DeividK3\\anaconda3\\lib\\site-packages\\sklearn\\metrics\\_classification.py:1248: UndefinedMetricWarning: Precision and F-score are ill-defined and being set to 0.0 in labels with no predicted samples. Use `zero_division` parameter to control this behavior.\n",
      "  _warn_prf(average, modifier, msg_start, len(result))\n",
      "C:\\Users\\DeividK3\\anaconda3\\lib\\site-packages\\sklearn\\metrics\\_classification.py:1248: UndefinedMetricWarning: Precision and F-score are ill-defined and being set to 0.0 in labels with no predicted samples. Use `zero_division` parameter to control this behavior.\n",
      "  _warn_prf(average, modifier, msg_start, len(result))\n",
      "C:\\Users\\DeividK3\\anaconda3\\lib\\site-packages\\sklearn\\metrics\\_classification.py:1248: UndefinedMetricWarning: Precision and F-score are ill-defined and being set to 0.0 in labels with no predicted samples. Use `zero_division` parameter to control this behavior.\n",
      "  _warn_prf(average, modifier, msg_start, len(result))\n"
     ]
    }
   ],
   "source": [
    "# Rendiment del model 2\n",
    "pred_test_XN_DD = clf_XN_DD.predict(X_test_2_DD)\n",
    "print(classification_report(y_test, pred_test_XN_DD))\n",
    "print(\"Accuracy score: \", metrics.accuracy_score(y_test, pred_test_XN_DD))\n",
    "print(\"AUC: \", metrics.roc_auc_score(y_test, pred_test_XN_DD))"
   ]
  },
  {
   "cell_type": "markdown",
   "metadata": {},
   "source": [
    "<span style='color:blue;font-size:18px'> <b> Model 3: XGBoost </b> </span>"
   ]
  },
  {
   "cell_type": "code",
   "execution_count": 71,
   "metadata": {},
   "outputs": [
    {
     "name": "stdout",
     "output_type": "stream",
     "text": [
      "# Afinació dels hiper-paràmetres de f1\n",
      "\n",
      "[16:40:00] WARNING: C:/Users/Administrator/workspace/xgboost-win64_release_1.4.0/src/learner.cc:1095: Starting in XGBoost 1.3.0, the default evaluation metric used with the objective 'binary:logistic' was changed from 'error' to 'logloss'. Explicitly set eval_metric if you'd like to restore the old behavior.\n",
      "Millors paràmetres trobats:\n",
      "\n",
      "{'booster': 'gblinear'}\n",
      "\n",
      "Puntuacions de les combinacions d'hiper-paràmetres:\n",
      "\n",
      "0.939 (+/-0.007) for {'booster': 'gbtree'}\n",
      "0.945 (+/-0.001) for {'booster': 'gblinear'}\n",
      "0.939 (+/-0.007) for {'booster': 'dart'}\n"
     ]
    }
   ],
   "source": [
    "# Selecció de diversos paràmetres i valors\n",
    "tuned_parameters = {\n",
    "    'booster': ['gbtree', 'gblinear', 'dart'],\n",
    "}\n",
    "\n",
    "# Selecció de la mètrica a optimitzar\n",
    "#scores = ['precision', 'recall', 'f1']\n",
    "#scores = [ 'f1_weighted','f1_micro','f1_macro','accuracy','roc_auc']\n",
    "score='f1'\n",
    "\n",
    "print(\"# Afinació dels hiper-paràmetres de %s\" % score)\n",
    "print()\n",
    "clf_XGB_DD = GridSearchCV(estimator= xgb.XGBClassifier(objective ='binary:logistic',use_label_encoder=False,random_state=1234), param_grid=tuned_parameters, cv=10,scoring='%s' % score,n_jobs= -1)\n",
    "clf_XGB_DD.fit(X_train_DD, y_train)\n",
    "    \n",
    "print(\"Millors paràmetres trobats:\")\n",
    "print()\n",
    "print(clf_XGB_DD.best_params_)\n",
    "print()\n",
    "print(\"Puntuacions de les combinacions d'hiper-paràmetres:\")\n",
    "print()\n",
    "means = clf_XGB_DD.cv_results_['mean_test_score']\n",
    "stds = clf_XGB_DD.cv_results_['std_test_score']\n",
    "for mean, std, params in zip(means, stds, clf_XGB_DD.cv_results_['params']):\n",
    "     print(\"%0.3f (+/-%0.03f) for %r\"\n",
    "            % (mean, std * 2, params))"
   ]
  },
  {
   "cell_type": "code",
   "execution_count": 72,
   "metadata": {},
   "outputs": [
    {
     "name": "stdout",
     "output_type": "stream",
     "text": [
      "              precision    recall  f1-score   support\n",
      "\n",
      "           0       1.00      0.01      0.02       212\n",
      "           1       0.89      1.00      0.94      1788\n",
      "\n",
      "    accuracy                           0.90      2000\n",
      "   macro avg       0.95      0.50      0.48      2000\n",
      "weighted avg       0.91      0.90      0.85      2000\n",
      "\n",
      "Accuracy score:  0.895\n",
      "AUC:  0.5047169811320755\n"
     ]
    }
   ],
   "source": [
    "# Rendiment del model 3\n",
    "pred_test_XGB_DD = clf_XGB_DD.predict(X_test_DD)\n",
    "print(classification_report(y_test, pred_test_XGB_DD))\n",
    "print(\"Accuracy score: \", metrics.accuracy_score(y_test, pred_test_XGB_DD))\n",
    "print(\"AUC: \", metrics.roc_auc_score(y_test, pred_test_XGB_DD))"
   ]
  },
  {
   "cell_type": "markdown",
   "metadata": {},
   "source": [
    "<span style='color:blue;font-size:15px'> <b> El rendiment dels tres model ha empitjorat. </b> </span>"
   ]
  },
  {
   "cell_type": "markdown",
   "metadata": {},
   "source": [
    "<span style='color:blue;font-size:15px'> El model de Xarxes Neuronals ha considertat totes les prediccions com el valor de la classe majoritaria (1) (Null Accuracy) </span>"
   ]
  },
  {
   "cell_type": "code",
   "execution_count": 73,
   "metadata": {},
   "outputs": [
    {
     "data": {
      "text/plain": [
       "2000"
      ]
     },
     "execution_count": 73,
     "metadata": {},
     "output_type": "execute_result"
    }
   ],
   "source": [
    "pred_test_XN_DD.sum()"
   ]
  }
 ],
 "metadata": {
  "kernelspec": {
   "display_name": "Python 3",
   "language": "python",
   "name": "python3"
  },
  "language_info": {
   "codemirror_mode": {
    "name": "ipython",
    "version": 3
   },
   "file_extension": ".py",
   "mimetype": "text/x-python",
   "name": "python",
   "nbconvert_exporter": "python",
   "pygments_lexer": "ipython3",
   "version": "3.8.5"
  }
 },
 "nbformat": 4,
 "nbformat_minor": 4
}
